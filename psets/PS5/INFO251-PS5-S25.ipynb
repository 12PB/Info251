{
 "cells": [
  {
   "cell_type": "markdown",
   "metadata": {},
   "source": [
    "\n",
    "# Problem Set 5: Trees, Forests, and Fairness in ML\n"
   ]
  },
  {
   "cell_type": "markdown",
   "metadata": {},
   "source": [
    "Your mission for this problem set is to use your knowledge of tree-based methods and supervised learning to -- among other things! -- explore issues of fairness in machine learning (ML). Unlike in previous psets, where we were implementing algorithms from scratch, this pset will rely more heavily on sklearn. Unless explicitly noted otherwise, you are allowed (encouraged!) to make good use of this wonderful library. \n",
    "\n",
    "This problem set will also rely on the resources provided by the [folktables](https://github.com/socialfoundations/folktables?tab=readme-ov-file) project. Before getting started, take some time to understand what folktables is about and how it can be used to benchmark ML algorithms in social science. If you don't understand the basics, this pset will be very challenging!!\n",
    "\n",
    "Some resources you might find useful:\n",
    "\n",
    "[Folktables paper](https://arxiv.org/abs/2108.04884)\n",
    "\n",
    "[Folktables video](youtube.com/watch?v=KP7DhM_ahHI)\n",
    "\n",
    "[PUMS_Data_Dictionary_2018](https://www2.census.gov/programssurveys/acs/tech_docs/pums/data_dict/PUMS_Data_Dictionary_2018.pdf)\n",
    "\n",
    "[Fairness in ML](https://fairmlbook.org/classification.html)"
   ]
  },
  {
   "cell_type": "markdown",
   "metadata": {},
   "source": [
    "--- \n",
    "# Part 0\n",
    "\n",
    "### Question 1 - upload your ipynb to bcourses\n",
    "\n",
    "### Question 2 - upload your pdf to bcourses\n",
    "\n",
    "\n",
    "### Question 3 - please provide a summary of any resources consulted, and people with whom you worked in the completion of the problem set.\n",
    "\n",
    "Highlight any specific LLM prompts/resources used at the point of use."
   ]
  },
  {
   "cell_type": "markdown",
   "metadata": {},
   "source": [
    "## Part I: Setup of prediction task"
   ]
  },
  {
   "cell_type": "markdown",
   "metadata": {},
   "source": [
    "### Question 4: Define the income prediction task\n",
    "\n",
    "For this first question we are providing the code. Run it to download the data you'll be using throughout this problem set. \n",
    "\n",
    "Begin by answering the following questions:\n",
    "\n",
    "* Where do the data come from?\n",
    "* What is the sample?\n",
    "* What are we trying to predict?\n",
    "* What are the features that we will be using?\n",
    "* What is the \"group\" feature?\n"
   ]
  },
  {
   "cell_type": "code",
   "execution_count": 2,
   "metadata": {},
   "outputs": [],
   "source": [
    "import numpy as np\n",
    "import pandas as pd\n",
    "import matplotlib.pyplot as plt\n",
    "import folktables\n",
    "import seaborn as sns"
   ]
  },
  {
   "cell_type": "code",
   "execution_count": 4,
   "metadata": {},
   "outputs": [],
   "source": [
    "from folktables import ACSDataSource, generate_categories\n",
    "\n",
    "def adult_filter(data):\n",
    "    \"\"\"Mimic the filters in place for Adult data.\n",
    "\n",
    "    Adult documentation notes: Extraction was done by Barry Becker from\n",
    "    the 1994 Census database. A set of reasonably clean records was extracted\n",
    "    using the following conditions:\n",
    "    ((AAGE>16) && (AGI>100) && (AFNLWGT>1)&& (HRSWK>0))\n",
    "    \"\"\"\n",
    "    df = data\n",
    "    df = df[df['AGEP'] > 16]\n",
    "    df = df[df['PINCP'] > 100]\n",
    "    df = df[df['WKHP'] > 0]\n",
    "    df = df[df['PWGTP'] >= 1]\n",
    "    return df\n",
    "\n",
    "ACSIncome = folktables.BasicProblem(\n",
    "    features=[\n",
    "        'AGEP',\n",
    "        'COW',\n",
    "        'SCHL',\n",
    "        'MAR',\n",
    "        'POBP',\n",
    "        'RELP',\n",
    "        'WKHP',\n",
    "        'SEX',\n",
    "        'RAC1P',\n",
    "    ],\n",
    "    target='PINCP',\n",
    "    target_transform=lambda x: x > 50000,\n",
    "    group='RAC1P',\n",
    "    preprocess=adult_filter,\n",
    "    postprocess=lambda x: np.nan_to_num(x, -1),\n",
    ")\n",
    "\n",
    "data_source = ACSDataSource(survey_year='2018', horizon='1-Year', survey='person')\n",
    "acs_data = data_source.get_data(states=[\"CA\"], download=True)\n",
    "definition_df = data_source.get_definitions(download=True)\n",
    "categories = generate_categories(features=ACSIncome.features, definition_df=definition_df)\n",
    "features, target, group = ACSIncome.df_to_pandas(acs_data)\n",
    "\n",
    "feature_names = ACSIncome.features\n",
    "target_name = ACSIncome.target\n",
    "group_name = ACSIncome.group"
   ]
  },
  {
   "cell_type": "markdown",
   "metadata": {},
   "source": [
    "The data is sourced from the American Community Survey (ACS), an annual mandatory survey that gathers information about individual demographics, employment, income and housing characteristics. The specific subset used is the Public Use Microdata Sample (PUMS), which are the responses to the survey questions from a subset of the total respondents to the ACS.\n",
    "\n",
    "In this specific case we are initialising the ACSIncome prediction task, which predicts whether a respondent's yearly income is above $50000. The features being used are: Age, Class of worker, Educational attainment, Marital status, Place of Birth, Relationshp (to respondent), Usual hours wokred per week past 12 months, Sex and Racial Group. \n",
    "\n",
    "The group feature is the feature on which we will group the data and compare the target outcome. In this case we will compare the prediction of income above $50000 for each racial group identified in the 'RAC1P' feature. This will allow us to evaluate on how the model violates fairness metrics such as equality of opportunity. "
   ]
  },
  {
   "cell_type": "markdown",
   "metadata": {},
   "source": [
    "### Question 5: Split into train and test\n",
    "\n",
    "Split your data into 80%-20% train and test splits. "
   ]
  },
  {
   "cell_type": "code",
   "execution_count": 10,
   "metadata": {},
   "outputs": [],
   "source": [
    "from sklearn.model_selection import train_test_split\n",
    "\n",
    "X_train, X_test, y_train, y_test, group_train, group_test = train_test_split(\n",
    "    features, target, group, test_size=0.2, random_state=0)"
   ]
  },
  {
   "cell_type": "markdown",
   "metadata": {},
   "source": [
    "### Question 6: Data Cleaning\n",
    "\n",
    "Remember to identify which features are best represented as numerical data types, and which ones are best represented as categorical data types. \n",
    "- Set each feature to its desired data type in both train and test splits. Make sure that the target variable in both splits is numeric before moving ahead.\n"
   ]
  },
  {
   "cell_type": "code",
   "execution_count": 45,
   "metadata": {},
   "outputs": [],
   "source": [
    "# Set target variables to numeric\n",
    "y_train['PINCP'] = pd.to_numeric(y_train['PINCP'])\n",
    "y_test['PINCP'] = pd.to_numeric(y_test['PINCP'])\n",
    "\n",
    "cat_cols = features.columns.to_list()\n",
    "cat_cols.remove('AGEP')\n",
    "cat_cols.remove('WKHP')\n",
    "\n",
    "X_train[cat_cols] = X_train[cat_cols].astype('category')\n",
    "X_test[cat_cols] = X_test[cat_cols].astype('category')"
   ]
  },
  {
   "cell_type": "markdown",
   "metadata": {},
   "source": [
    "### Question 7: Entropy and Information Gain\n",
    "\n",
    "As we discussed in lecture, decision trees (and their variants) recursively split your dataset into smaller and smaller samples. Let's review how these splits are placed!\n",
    "\n",
    "For this exercise, consider a really simple decision tree, with only 1 feature: WKHP. Given our income prediction task (defined above), your task is to determine whether it would be better to split this feature at WKHP = 40, or WKHP = 50. \n",
    "Your tasks:\n",
    "- Complete the function *weighted_entropy*. The function takes as input a feature, a split point for the feature, and the target. The function returns the entropy (as defined and discussed in the lectures) for that particular split. \n",
    "- Using this function, calculate and report the entropy gain from 1) placing a split at WKHP = 40 and 2) placing a split at WKHP = 50. \n",
    "- State your conclusion: is it better (in terms of information gain) to split the feature WKHP at the value 40 or the value 50?\n",
    "\n",
    "Hint: review pages 25 - 30 in Lecture 12: Decision Trees "
   ]
  },
  {
   "cell_type": "code",
   "execution_count": null,
   "metadata": {},
   "outputs": [
    {
     "name": "stdout",
     "output_type": "stream",
     "text": [
      "Entropy at parent node is 0.977\n",
      "weighted entropy at split point = 40 is 0.923\n",
      "weighted entropy at split point = 50 is 0.962\n",
      "Information gain for 40 = 0.054 for 50 = 0.015\n"
     ]
    }
   ],
   "source": [
    "def entropy(target):\n",
    "    p1 = np.mean(target)\n",
    "    p0 = 1 - p1\n",
    "\n",
    "    return - (p1 * np.log2(p1) + p0 * np.log2(p0))\n",
    "\n",
    "def weighted_entropy(x, y, split_point):\n",
    "    \"\"\"\n",
    "    x: a column vector of dimensions N X 1 (the feature)\n",
    "    y: a column vector of dimensions N x 1 (the target variable)\n",
    "    split_point: an integer in the range [min(x), max(x)], which indicates where to split the feature x. \n",
    "    \"\"\"\n",
    "    n_values = len(y)\n",
    "\n",
    "    left_mask = x <= split_point\n",
    "    right_mask = x > split_point\n",
    "\n",
    "    left_y = y[left_mask]\n",
    "    right_y = y[right_mask]\n",
    "\n",
    "    wt_entropy = (len(left_y)/n_values)* entropy(left_y) + (len(right_y)/n_values)* entropy(right_y)\n",
    "\n",
    "    return wt_entropy\n",
    "\n",
    "x = X_train['WKHP']\n",
    "y = y_train['PINCP']\n",
    "\n",
    "ent = entropy(y_train)\n",
    "ent_40 = weighted_entropy(x, y, 40)\n",
    "ent_50 = weighted_entropy(x, y, 50)\n",
    "\n",
    "print(f\"Entropy at parent node is {ent:.3f}\")\n",
    "print(f\"weighted entropy at split point = 40 is {ent_40:.3f}\")\n",
    "print(f\"weighted entropy at split point = 50 is {ent_50:.3f}\")\n",
    "print(f\"Information gain for 40 = {(ent - ent_40):.3f} for 50 = {(ent - ent_50):.3f}\" )"
   ]
  },
  {
   "cell_type": "markdown",
   "metadata": {},
   "source": [
    "Splitting at WKHP = 40 is better as it has a higher information gain at 0.054 compared to 0.015 for the split at 50."
   ]
  },
  {
   "cell_type": "markdown",
   "metadata": {},
   "source": [
    "## Part II: ML pipeline for a Classification Tree\n",
    "\n",
    "Next, you'll build an ML pipeline using sklearn. Take some time to familiarize yourself with [sklearn.pipeline.Pipeline](https://scikit-learn.org/stable/modules/generated/sklearn.pipeline.Pipeline.html) before proceeding."
   ]
  },
  {
   "cell_type": "markdown",
   "metadata": {},
   "source": [
    "### Question 8: Pre-processing of features\n",
    "\n",
    "The first step of the pipeline will standardize the numeric features and one-hot encode the categorical features. Write the code for this preprocessing step below. \n",
    "\n",
    "**Hint**: Take a look at sklearn's ColumnTransformer, OneHotEncoder and StandardScaler for this task. "
   ]
  },
  {
   "cell_type": "code",
   "execution_count": null,
   "metadata": {},
   "outputs": [],
   "source": [
    "from sklearn.pipeline import Pipeline\n",
    "from sklearn.compose import ColumnTransformer\n",
    "from sklearn.preprocessing import OneHotEncoder, StandardScaler\n",
    "\n",
    "cat_cols = X_train.select_dtypes(include = ['category']).columns\n",
    "num_cols = X_train.select_dtypes(include = ['float64']).columns\n",
    "ct = ColumnTransformer([('Standardize', StandardScaler(), num_cols),\n",
    "                        ('One-hot encode', OneHotEncoder(),cat_cols)], )"
   ]
  },
  {
   "cell_type": "markdown",
   "metadata": {},
   "source": [
    "### Question 9: Use your pre-processed data to fit a basic DecisionTreeClassifier\n",
    "\n",
    "Now, bring together the pre-processing step with a Decision Tree Classifier in a pipeline. For now, use the default values; we'll take care of hyperparameter optimization later. \n",
    "- Fit the pipeline on the training data. \n",
    "- How deep is the resulting tree? How many leafs are in the tree? \n",
    "- Print the 10 variables with highest feature importance and tell us what those importances mean in plain English. \n",
    "- Plot the top 3 levels of the fitted decision tree. Make sure that the nodes are appropriately labeled. "
   ]
  },
  {
   "cell_type": "code",
   "execution_count": null,
   "metadata": {},
   "outputs": [
    {
     "name": "stdout",
     "output_type": "stream",
     "text": [
      "Final tree has depth 87 and 37845\n",
      "\n",
      "Top 10 Features by Importance:\n",
      "        Feature  Importance\n",
      "0          AGEP    0.233451\n",
      "1          WKHP    0.201175\n",
      "182  POBP_303.0    0.048572\n",
      "30    SCHL_21.0    0.031870\n",
      "31    SCHL_22.0    0.027139\n",
      "25    SCHL_16.0    0.024585\n",
      "32    SCHL_23.0    0.018331\n",
      "2       COW_1.0    0.016560\n",
      "43     POBP_6.0    0.016169\n",
      "258    RELP_0.0    0.016166\n"
     ]
    },
    {
     "data": {
      "text/plain": [
       "[Text(0.5, 0.875, 'WKHP <= -0.181\\ngini = 0.484\\nsamples = 156532\\nvalue = [92232, 64300]\\nclass = > $50000'),\n",
       " Text(0.25, 0.625, 'AGEP <= 0.924\\ngini = 0.242\\nsamples = 44240\\nvalue = [38000, 6240]\\nclass = > $50000'),\n",
       " Text(0.375, 0.75, 'True  '),\n",
       " Text(0.125, 0.375, 'AGEP <= -0.755\\ngini = 0.149\\nsamples = 33319\\nvalue = [30614, 2705]\\nclass = > $50000'),\n",
       " Text(0.0625, 0.125, '\\n  (...)  \\n'),\n",
       " Text(0.1875, 0.125, '\\n  (...)  \\n'),\n",
       " Text(0.375, 0.375, 'SCHL_22.0 <= 0.5\\ngini = 0.438\\nsamples = 10921\\nvalue = [7386, 3535]\\nclass = > $50000'),\n",
       " Text(0.3125, 0.125, '\\n  (...)  \\n'),\n",
       " Text(0.4375, 0.125, '\\n  (...)  \\n'),\n",
       " Text(0.75, 0.625, 'AGEP <= -0.957\\ngini = 0.499\\nsamples = 112292\\nvalue = [54232.0, 58060.0]\\nclass = < $5000'),\n",
       " Text(0.625, 0.75, '  False'),\n",
       " Text(0.625, 0.375, 'SCHL_21.0 <= 0.5\\ngini = 0.344\\nsamples = 17642\\nvalue = [13749, 3893]\\nclass = > $50000'),\n",
       " Text(0.5625, 0.125, '\\n  (...)  \\n'),\n",
       " Text(0.6875, 0.125, '\\n  (...)  \\n'),\n",
       " Text(0.875, 0.375, 'POBP_303.0 <= 0.5\\ngini = 0.49\\nsamples = 94650\\nvalue = [40483.0, 54167.0]\\nclass = < $5000'),\n",
       " Text(0.8125, 0.125, '\\n  (...)  \\n'),\n",
       " Text(0.9375, 0.125, '\\n  (...)  \\n')]"
      ]
     },
     "execution_count": 56,
     "metadata": {},
     "output_type": "execute_result"
    },
    {
     "data": {
      "image/png": "[encoded data removed]",
      "text/plain": [
       "<Figure size 2000x1000 with 1 Axes>"
      ]
     },
     "metadata": {},
     "output_type": "display_data"
    }
   ],
   "source": [
    "from sklearn.tree import DecisionTreeClassifier\n",
    "from sklearn import tree\n",
    "from sklearn.tree import plot_tree\n",
    "\n",
    "# Create pipeline with 2 steps\n",
    "pipe = Pipeline([('preprocessing', ct), ('decision_tree', DecisionTreeClassifier())])\n",
    "\n",
    "# Fit pipeline onto data\n",
    "pipe.fit(X_train,y_train)\n",
    "\n",
    "# Extract final tree\n",
    "final_tree = pipe.named_steps['decision_tree']\n",
    "\n",
    "# Extract information about tree\n",
    "print(f\"Final tree has depth {final_tree.get_depth()} and {final_tree.get_n_leaves()} leaves\")\n",
    "\n",
    "# Extract features \n",
    "feature_imp = final_tree.feature_importances_\n",
    "\n",
    "col_names = num_cols.tolist() + list(pipe.named_steps['preprocessing'].named_transformers_['One-hot encode'].get_feature_names_out())\n",
    "\n",
    "feature_importance_df = pd.DataFrame({\n",
    "    'Feature': col_names,\n",
    "    'Importance': feature_imp\n",
    "})\n",
    "\n",
    "feature_importance_df.sort_values(by='Importance', ascending=False, inplace = True)\n",
    "print(\"\\nTop 10 Features by Importance:\")\n",
    "print(feature_importance_df.head(10))\n",
    "\n",
    "\n",
    "# Plot tree\n",
    "plt.figure(figsize = (20,10))\n",
    "plot_tree(final_tree, max_depth = 2, filled = True, feature_names = col_names,class_names= ['> $50000', '< $5000'], rounded = True )"
   ]
  },
  {
   "cell_type": "markdown",
   "metadata": {},
   "source": [
    "The resulting tree using the default hyperparameters and no max depth depth 87 and 37845 leaves. \n",
    "\n",
    "The top 10 important features are as following:\n",
    "\n",
    "1) AGEP: Multiple splits based on a value of AGE contribute 23.3% of the reduction in impurity\n",
    "2) WKHP: Splitting based on the hours worked per week contributes 20.1% of the reduction in impurity\n",
    "3) POBP_303.0: Splits based on whether individuals were born in Mexico had a 4.86% reduction in imprity\n",
    "4) SCHL_21.0: Splits based on whether individuals had a bachelor's degree had a 3.19% reduction in impurity \n",
    "5) SCHL_22.0: Splits based on whether individuals had a master's degree had a 2.71% reduction in impurity   \n",
    "6) SCHL_16.0: Splits based on whether individuals finished high school had a 2.45% reduction in impurity     \n",
    "7) SCHL_23.0: Splits based on whether individuals had a professional degree beyond bachelor's had a 1.83% reduction in impurity.\n",
    "8) COW_1.0: Splits based on whether individuals were an employee in a private company had a 1.65% reduction in impurity.\n",
    "9) POBP_6.0: Splits based on whether individuals were born in California had a 1.61% reduction in imprity  \n",
    "10) RELP_0.0 Splits based on whether the individuals was the reference person in the survey had a 1.61% reduction in imprity."
   ]
  },
  {
   "cell_type": "markdown",
   "metadata": {},
   "source": [
    "### Question 10: Performance Metrics\n",
    "\n",
    "Let's evaluate the performance of your classifier. Generate predictions from your fitted model, and calculate the following metrics (on the training dataset):\n",
    "- accuracy\n",
    "- precision\n",
    "- recall\n",
    "- f1-score\n",
    "\n",
    " **Do not use any pre-packaged or canned functions from sklearn to calculate these metrics.** Rather, implement the necessary code to calculate these from scratch. You can continue using DecisionTreeClassifier to generate predictions etc. \n"
   ]
  },
  {
   "cell_type": "code",
   "execution_count": 65,
   "metadata": {},
   "outputs": [
    {
     "name": "stdout",
     "output_type": "stream",
     "text": [
      "Accuracy is 0.741, Precision is 0.687, Recall is 0.674, f1 score is 0.680\n"
     ]
    }
   ],
   "source": [
    "y_pred = pipe.predict(X_test)\n",
    "\n",
    "def performance_metrics(y_pred, y):\n",
    "    acc = np.mean(y_pred == y)\n",
    "    prec = np.sum((y_pred == 1) & (y == 1))/ np.sum(y_pred == 1)\n",
    "    rec = np.sum((y_pred == 1) & (y == 1))/ np.sum(y == 1)\n",
    "    f1 = 2*(prec*rec)/(prec + rec) if prec + rec != 0 else 0\n",
    "\n",
    "    print(f\"Accuracy is {acc:.3f}, Precision is {prec:.3f}, Recall is {rec:.3f}, f1 score is {f1:.3f}\")\n",
    "\n",
    "performance_metrics(y_pred, y_test['PINCP'])"
   ]
  },
  {
   "cell_type": "markdown",
   "metadata": {},
   "source": [
    "### Question 11: Estimate AUC using K-Fold CV\n",
    "\n",
    "Calculate the 5-fold cross-validated AUC-ROC for this simple tree pipeline.\n",
    "- Report the score for each fold as well as the average across all folds. \n",
    "\n",
    "**Hint 1**: sklearn.model_selection.cross_val_score is your friend. Setting the verbose option to 3 is useful. "
   ]
  },
  {
   "cell_type": "code",
   "execution_count": 66,
   "metadata": {},
   "outputs": [
    {
     "name": "stderr",
     "output_type": "stream",
     "text": [
      "c:\\Users\\PB\\Documents\\GitHub\\Info251\\.conda\\Lib\\site-packages\\sklearn\\model_selection\\_validation.py:978: UserWarning: Scoring failed. The score on this train-test partition for these parameters will be set to nan. Details: \n",
      "Traceback (most recent call last):\n",
      "  File \"c:\\Users\\PB\\Documents\\GitHub\\Info251\\.conda\\Lib\\site-packages\\sklearn\\metrics\\_scorer.py\", line 140, in __call__\n",
      "    score = scorer._score(\n",
      "            ^^^^^^^^^^^^^^\n",
      "  File \"c:\\Users\\PB\\Documents\\GitHub\\Info251\\.conda\\Lib\\site-packages\\sklearn\\metrics\\_scorer.py\", line 380, in _score\n",
      "    y_pred = method_caller(\n",
      "             ^^^^^^^^^^^^^^\n",
      "  File \"c:\\Users\\PB\\Documents\\GitHub\\Info251\\.conda\\Lib\\site-packages\\sklearn\\metrics\\_scorer.py\", line 90, in _cached_call\n",
      "    result, _ = _get_response_values(\n",
      "                ^^^^^^^^^^^^^^^^^^^^^\n",
      "  File \"c:\\Users\\PB\\Documents\\GitHub\\Info251\\.conda\\Lib\\site-packages\\sklearn\\utils\\_response.py\", line 214, in _get_response_values\n",
      "    y_pred = prediction_method(X)\n",
      "             ^^^^^^^^^^^^^^^^^^^^\n",
      "  File \"c:\\Users\\PB\\Documents\\GitHub\\Info251\\.conda\\Lib\\site-packages\\sklearn\\pipeline.py\", line 903, in predict_proba\n",
      "    Xt = transform.transform(Xt)\n",
      "         ^^^^^^^^^^^^^^^^^^^^^^^\n",
      "  File \"c:\\Users\\PB\\Documents\\GitHub\\Info251\\.conda\\Lib\\site-packages\\sklearn\\utils\\_set_output.py\", line 319, in wrapped\n",
      "    data_to_wrap = f(self, X, *args, **kwargs)\n",
      "                   ^^^^^^^^^^^^^^^^^^^^^^^^^^^\n",
      "  File \"c:\\Users\\PB\\Documents\\GitHub\\Info251\\.conda\\Lib\\site-packages\\sklearn\\compose\\_column_transformer.py\", line 1101, in transform\n",
      "    Xs = self._call_func_on_transformers(\n",
      "         ^^^^^^^^^^^^^^^^^^^^^^^^^^^^^^^^\n",
      "  File \"c:\\Users\\PB\\Documents\\GitHub\\Info251\\.conda\\Lib\\site-packages\\sklearn\\compose\\_column_transformer.py\", line 910, in _call_func_on_transformers\n",
      "    return Parallel(n_jobs=self.n_jobs)(jobs)\n",
      "           ^^^^^^^^^^^^^^^^^^^^^^^^^^^^^^^^^^\n",
      "  File \"c:\\Users\\PB\\Documents\\GitHub\\Info251\\.conda\\Lib\\site-packages\\sklearn\\utils\\parallel.py\", line 77, in __call__\n",
      "    return super().__call__(iterable_with_config)\n",
      "           ^^^^^^^^^^^^^^^^^^^^^^^^^^^^^^^^^^^^^^\n",
      "  File \"c:\\Users\\PB\\Documents\\GitHub\\Info251\\.conda\\Lib\\site-packages\\joblib\\parallel.py\", line 1918, in __call__\n",
      "    return output if self.return_generator else list(output)\n",
      "                                                ^^^^^^^^^^^^\n",
      "  File \"c:\\Users\\PB\\Documents\\GitHub\\Info251\\.conda\\Lib\\site-packages\\joblib\\parallel.py\", line 1847, in _get_sequential_output\n",
      "    res = func(*args, **kwargs)\n",
      "          ^^^^^^^^^^^^^^^^^^^^^\n",
      "  File \"c:\\Users\\PB\\Documents\\GitHub\\Info251\\.conda\\Lib\\site-packages\\sklearn\\utils\\parallel.py\", line 139, in __call__\n",
      "    return self.function(*args, **kwargs)\n",
      "           ^^^^^^^^^^^^^^^^^^^^^^^^^^^^^^\n",
      "  File \"c:\\Users\\PB\\Documents\\GitHub\\Info251\\.conda\\Lib\\site-packages\\sklearn\\pipeline.py\", line 1531, in _transform_one\n",
      "    res = transformer.transform(X, **params.transform)\n",
      "          ^^^^^^^^^^^^^^^^^^^^^^^^^^^^^^^^^^^^^^^^^^^^\n",
      "  File \"c:\\Users\\PB\\Documents\\GitHub\\Info251\\.conda\\Lib\\site-packages\\sklearn\\utils\\_set_output.py\", line 319, in wrapped\n",
      "    data_to_wrap = f(self, X, *args, **kwargs)\n",
      "                   ^^^^^^^^^^^^^^^^^^^^^^^^^^^\n",
      "  File \"c:\\Users\\PB\\Documents\\GitHub\\Info251\\.conda\\Lib\\site-packages\\sklearn\\preprocessing\\_encoders.py\", line 1043, in transform\n",
      "    X_int, X_mask = self._transform(\n",
      "                    ^^^^^^^^^^^^^^^^\n",
      "  File \"c:\\Users\\PB\\Documents\\GitHub\\Info251\\.conda\\Lib\\site-packages\\sklearn\\preprocessing\\_encoders.py\", line 218, in _transform\n",
      "    raise ValueError(msg)\n",
      "ValueError: Found unknown categories [np.float64(152.0)] in column 3 during transform\n",
      "\n",
      "  warnings.warn(\n"
     ]
    },
    {
     "name": "stdout",
     "output_type": "stream",
     "text": [
      "[CV] END .................................. score: (test=nan) total time=  27.0s\n",
      "[CV] END ................................ score: (test=0.739) total time=  26.6s\n"
     ]
    },
    {
     "name": "stderr",
     "output_type": "stream",
     "text": [
      "c:\\Users\\PB\\Documents\\GitHub\\Info251\\.conda\\Lib\\site-packages\\sklearn\\model_selection\\_validation.py:978: UserWarning: Scoring failed. The score on this train-test partition for these parameters will be set to nan. Details: \n",
      "Traceback (most recent call last):\n",
      "  File \"c:\\Users\\PB\\Documents\\GitHub\\Info251\\.conda\\Lib\\site-packages\\sklearn\\metrics\\_scorer.py\", line 140, in __call__\n",
      "    score = scorer._score(\n",
      "            ^^^^^^^^^^^^^^\n",
      "  File \"c:\\Users\\PB\\Documents\\GitHub\\Info251\\.conda\\Lib\\site-packages\\sklearn\\metrics\\_scorer.py\", line 380, in _score\n",
      "    y_pred = method_caller(\n",
      "             ^^^^^^^^^^^^^^\n",
      "  File \"c:\\Users\\PB\\Documents\\GitHub\\Info251\\.conda\\Lib\\site-packages\\sklearn\\metrics\\_scorer.py\", line 90, in _cached_call\n",
      "    result, _ = _get_response_values(\n",
      "                ^^^^^^^^^^^^^^^^^^^^^\n",
      "  File \"c:\\Users\\PB\\Documents\\GitHub\\Info251\\.conda\\Lib\\site-packages\\sklearn\\utils\\_response.py\", line 214, in _get_response_values\n",
      "    y_pred = prediction_method(X)\n",
      "             ^^^^^^^^^^^^^^^^^^^^\n",
      "  File \"c:\\Users\\PB\\Documents\\GitHub\\Info251\\.conda\\Lib\\site-packages\\sklearn\\pipeline.py\", line 903, in predict_proba\n",
      "    Xt = transform.transform(Xt)\n",
      "         ^^^^^^^^^^^^^^^^^^^^^^^\n",
      "  File \"c:\\Users\\PB\\Documents\\GitHub\\Info251\\.conda\\Lib\\site-packages\\sklearn\\utils\\_set_output.py\", line 319, in wrapped\n",
      "    data_to_wrap = f(self, X, *args, **kwargs)\n",
      "                   ^^^^^^^^^^^^^^^^^^^^^^^^^^^\n",
      "  File \"c:\\Users\\PB\\Documents\\GitHub\\Info251\\.conda\\Lib\\site-packages\\sklearn\\compose\\_column_transformer.py\", line 1101, in transform\n",
      "    Xs = self._call_func_on_transformers(\n",
      "         ^^^^^^^^^^^^^^^^^^^^^^^^^^^^^^^^\n",
      "  File \"c:\\Users\\PB\\Documents\\GitHub\\Info251\\.conda\\Lib\\site-packages\\sklearn\\compose\\_column_transformer.py\", line 910, in _call_func_on_transformers\n",
      "    return Parallel(n_jobs=self.n_jobs)(jobs)\n",
      "           ^^^^^^^^^^^^^^^^^^^^^^^^^^^^^^^^^^\n",
      "  File \"c:\\Users\\PB\\Documents\\GitHub\\Info251\\.conda\\Lib\\site-packages\\sklearn\\utils\\parallel.py\", line 77, in __call__\n",
      "    return super().__call__(iterable_with_config)\n",
      "           ^^^^^^^^^^^^^^^^^^^^^^^^^^^^^^^^^^^^^^\n",
      "  File \"c:\\Users\\PB\\Documents\\GitHub\\Info251\\.conda\\Lib\\site-packages\\joblib\\parallel.py\", line 1918, in __call__\n",
      "    return output if self.return_generator else list(output)\n",
      "                                                ^^^^^^^^^^^^\n",
      "  File \"c:\\Users\\PB\\Documents\\GitHub\\Info251\\.conda\\Lib\\site-packages\\joblib\\parallel.py\", line 1847, in _get_sequential_output\n",
      "    res = func(*args, **kwargs)\n",
      "          ^^^^^^^^^^^^^^^^^^^^^\n",
      "  File \"c:\\Users\\PB\\Documents\\GitHub\\Info251\\.conda\\Lib\\site-packages\\sklearn\\utils\\parallel.py\", line 139, in __call__\n",
      "    return self.function(*args, **kwargs)\n",
      "           ^^^^^^^^^^^^^^^^^^^^^^^^^^^^^^\n",
      "  File \"c:\\Users\\PB\\Documents\\GitHub\\Info251\\.conda\\Lib\\site-packages\\sklearn\\pipeline.py\", line 1531, in _transform_one\n",
      "    res = transformer.transform(X, **params.transform)\n",
      "          ^^^^^^^^^^^^^^^^^^^^^^^^^^^^^^^^^^^^^^^^^^^^\n",
      "  File \"c:\\Users\\PB\\Documents\\GitHub\\Info251\\.conda\\Lib\\site-packages\\sklearn\\utils\\_set_output.py\", line 319, in wrapped\n",
      "    data_to_wrap = f(self, X, *args, **kwargs)\n",
      "                   ^^^^^^^^^^^^^^^^^^^^^^^^^^^\n",
      "  File \"c:\\Users\\PB\\Documents\\GitHub\\Info251\\.conda\\Lib\\site-packages\\sklearn\\preprocessing\\_encoders.py\", line 1043, in transform\n",
      "    X_int, X_mask = self._transform(\n",
      "                    ^^^^^^^^^^^^^^^^\n",
      "  File \"c:\\Users\\PB\\Documents\\GitHub\\Info251\\.conda\\Lib\\site-packages\\sklearn\\preprocessing\\_encoders.py\", line 218, in _transform\n",
      "    raise ValueError(msg)\n",
      "ValueError: Found unknown categories [np.float64(343.0)] in column 3 during transform\n",
      "\n",
      "  warnings.warn(\n"
     ]
    },
    {
     "name": "stdout",
     "output_type": "stream",
     "text": [
      "[CV] END .................................. score: (test=nan) total time=  24.5s\n"
     ]
    },
    {
     "name": "stderr",
     "output_type": "stream",
     "text": [
      "c:\\Users\\PB\\Documents\\GitHub\\Info251\\.conda\\Lib\\site-packages\\sklearn\\model_selection\\_validation.py:978: UserWarning: Scoring failed. The score on this train-test partition for these parameters will be set to nan. Details: \n",
      "Traceback (most recent call last):\n",
      "  File \"c:\\Users\\PB\\Documents\\GitHub\\Info251\\.conda\\Lib\\site-packages\\sklearn\\metrics\\_scorer.py\", line 140, in __call__\n",
      "    score = scorer._score(\n",
      "            ^^^^^^^^^^^^^^\n",
      "  File \"c:\\Users\\PB\\Documents\\GitHub\\Info251\\.conda\\Lib\\site-packages\\sklearn\\metrics\\_scorer.py\", line 380, in _score\n",
      "    y_pred = method_caller(\n",
      "             ^^^^^^^^^^^^^^\n",
      "  File \"c:\\Users\\PB\\Documents\\GitHub\\Info251\\.conda\\Lib\\site-packages\\sklearn\\metrics\\_scorer.py\", line 90, in _cached_call\n",
      "    result, _ = _get_response_values(\n",
      "                ^^^^^^^^^^^^^^^^^^^^^\n",
      "  File \"c:\\Users\\PB\\Documents\\GitHub\\Info251\\.conda\\Lib\\site-packages\\sklearn\\utils\\_response.py\", line 214, in _get_response_values\n",
      "    y_pred = prediction_method(X)\n",
      "             ^^^^^^^^^^^^^^^^^^^^\n",
      "  File \"c:\\Users\\PB\\Documents\\GitHub\\Info251\\.conda\\Lib\\site-packages\\sklearn\\pipeline.py\", line 903, in predict_proba\n",
      "    Xt = transform.transform(Xt)\n",
      "         ^^^^^^^^^^^^^^^^^^^^^^^\n",
      "  File \"c:\\Users\\PB\\Documents\\GitHub\\Info251\\.conda\\Lib\\site-packages\\sklearn\\utils\\_set_output.py\", line 319, in wrapped\n",
      "    data_to_wrap = f(self, X, *args, **kwargs)\n",
      "                   ^^^^^^^^^^^^^^^^^^^^^^^^^^^\n",
      "  File \"c:\\Users\\PB\\Documents\\GitHub\\Info251\\.conda\\Lib\\site-packages\\sklearn\\compose\\_column_transformer.py\", line 1101, in transform\n",
      "    Xs = self._call_func_on_transformers(\n",
      "         ^^^^^^^^^^^^^^^^^^^^^^^^^^^^^^^^\n",
      "  File \"c:\\Users\\PB\\Documents\\GitHub\\Info251\\.conda\\Lib\\site-packages\\sklearn\\compose\\_column_transformer.py\", line 910, in _call_func_on_transformers\n",
      "    return Parallel(n_jobs=self.n_jobs)(jobs)\n",
      "           ^^^^^^^^^^^^^^^^^^^^^^^^^^^^^^^^^^\n",
      "  File \"c:\\Users\\PB\\Documents\\GitHub\\Info251\\.conda\\Lib\\site-packages\\sklearn\\utils\\parallel.py\", line 77, in __call__\n",
      "    return super().__call__(iterable_with_config)\n",
      "           ^^^^^^^^^^^^^^^^^^^^^^^^^^^^^^^^^^^^^^\n",
      "  File \"c:\\Users\\PB\\Documents\\GitHub\\Info251\\.conda\\Lib\\site-packages\\joblib\\parallel.py\", line 1918, in __call__\n",
      "    return output if self.return_generator else list(output)\n",
      "                                                ^^^^^^^^^^^^\n",
      "  File \"c:\\Users\\PB\\Documents\\GitHub\\Info251\\.conda\\Lib\\site-packages\\joblib\\parallel.py\", line 1847, in _get_sequential_output\n",
      "    res = func(*args, **kwargs)\n",
      "          ^^^^^^^^^^^^^^^^^^^^^\n",
      "  File \"c:\\Users\\PB\\Documents\\GitHub\\Info251\\.conda\\Lib\\site-packages\\sklearn\\utils\\parallel.py\", line 139, in __call__\n",
      "    return self.function(*args, **kwargs)\n",
      "           ^^^^^^^^^^^^^^^^^^^^^^^^^^^^^^\n",
      "  File \"c:\\Users\\PB\\Documents\\GitHub\\Info251\\.conda\\Lib\\site-packages\\sklearn\\pipeline.py\", line 1531, in _transform_one\n",
      "    res = transformer.transform(X, **params.transform)\n",
      "          ^^^^^^^^^^^^^^^^^^^^^^^^^^^^^^^^^^^^^^^^^^^^\n",
      "  File \"c:\\Users\\PB\\Documents\\GitHub\\Info251\\.conda\\Lib\\site-packages\\sklearn\\utils\\_set_output.py\", line 319, in wrapped\n",
      "    data_to_wrap = f(self, X, *args, **kwargs)\n",
      "                   ^^^^^^^^^^^^^^^^^^^^^^^^^^^\n",
      "  File \"c:\\Users\\PB\\Documents\\GitHub\\Info251\\.conda\\Lib\\site-packages\\sklearn\\preprocessing\\_encoders.py\", line 1043, in transform\n",
      "    X_int, X_mask = self._transform(\n",
      "                    ^^^^^^^^^^^^^^^^\n",
      "  File \"c:\\Users\\PB\\Documents\\GitHub\\Info251\\.conda\\Lib\\site-packages\\sklearn\\preprocessing\\_encoders.py\", line 218, in _transform\n",
      "    raise ValueError(msg)\n",
      "ValueError: Found unknown categories [np.float64(118.0), np.float64(338.0), np.float64(412.0)] in column 3 during transform\n",
      "\n",
      "  warnings.warn(\n"
     ]
    },
    {
     "name": "stdout",
     "output_type": "stream",
     "text": [
      "[CV] END .................................. score: (test=nan) total time=  29.8s\n",
      "[CV] END .................................. score: (test=nan) total time=  33.5s\n",
      "[       nan 0.73854456        nan        nan        nan]\n"
     ]
    },
    {
     "name": "stderr",
     "output_type": "stream",
     "text": [
      "c:\\Users\\PB\\Documents\\GitHub\\Info251\\.conda\\Lib\\site-packages\\sklearn\\model_selection\\_validation.py:978: UserWarning: Scoring failed. The score on this train-test partition for these parameters will be set to nan. Details: \n",
      "Traceback (most recent call last):\n",
      "  File \"c:\\Users\\PB\\Documents\\GitHub\\Info251\\.conda\\Lib\\site-packages\\sklearn\\metrics\\_scorer.py\", line 140, in __call__\n",
      "    score = scorer._score(\n",
      "            ^^^^^^^^^^^^^^\n",
      "  File \"c:\\Users\\PB\\Documents\\GitHub\\Info251\\.conda\\Lib\\site-packages\\sklearn\\metrics\\_scorer.py\", line 380, in _score\n",
      "    y_pred = method_caller(\n",
      "             ^^^^^^^^^^^^^^\n",
      "  File \"c:\\Users\\PB\\Documents\\GitHub\\Info251\\.conda\\Lib\\site-packages\\sklearn\\metrics\\_scorer.py\", line 90, in _cached_call\n",
      "    result, _ = _get_response_values(\n",
      "                ^^^^^^^^^^^^^^^^^^^^^\n",
      "  File \"c:\\Users\\PB\\Documents\\GitHub\\Info251\\.conda\\Lib\\site-packages\\sklearn\\utils\\_response.py\", line 214, in _get_response_values\n",
      "    y_pred = prediction_method(X)\n",
      "             ^^^^^^^^^^^^^^^^^^^^\n",
      "  File \"c:\\Users\\PB\\Documents\\GitHub\\Info251\\.conda\\Lib\\site-packages\\sklearn\\pipeline.py\", line 903, in predict_proba\n",
      "    Xt = transform.transform(Xt)\n",
      "         ^^^^^^^^^^^^^^^^^^^^^^^\n",
      "  File \"c:\\Users\\PB\\Documents\\GitHub\\Info251\\.conda\\Lib\\site-packages\\sklearn\\utils\\_set_output.py\", line 319, in wrapped\n",
      "    data_to_wrap = f(self, X, *args, **kwargs)\n",
      "                   ^^^^^^^^^^^^^^^^^^^^^^^^^^^\n",
      "  File \"c:\\Users\\PB\\Documents\\GitHub\\Info251\\.conda\\Lib\\site-packages\\sklearn\\compose\\_column_transformer.py\", line 1101, in transform\n",
      "    Xs = self._call_func_on_transformers(\n",
      "         ^^^^^^^^^^^^^^^^^^^^^^^^^^^^^^^^\n",
      "  File \"c:\\Users\\PB\\Documents\\GitHub\\Info251\\.conda\\Lib\\site-packages\\sklearn\\compose\\_column_transformer.py\", line 910, in _call_func_on_transformers\n",
      "    return Parallel(n_jobs=self.n_jobs)(jobs)\n",
      "           ^^^^^^^^^^^^^^^^^^^^^^^^^^^^^^^^^^\n",
      "  File \"c:\\Users\\PB\\Documents\\GitHub\\Info251\\.conda\\Lib\\site-packages\\sklearn\\utils\\parallel.py\", line 77, in __call__\n",
      "    return super().__call__(iterable_with_config)\n",
      "           ^^^^^^^^^^^^^^^^^^^^^^^^^^^^^^^^^^^^^^\n",
      "  File \"c:\\Users\\PB\\Documents\\GitHub\\Info251\\.conda\\Lib\\site-packages\\joblib\\parallel.py\", line 1918, in __call__\n",
      "    return output if self.return_generator else list(output)\n",
      "                                                ^^^^^^^^^^^^\n",
      "  File \"c:\\Users\\PB\\Documents\\GitHub\\Info251\\.conda\\Lib\\site-packages\\joblib\\parallel.py\", line 1847, in _get_sequential_output\n",
      "    res = func(*args, **kwargs)\n",
      "          ^^^^^^^^^^^^^^^^^^^^^\n",
      "  File \"c:\\Users\\PB\\Documents\\GitHub\\Info251\\.conda\\Lib\\site-packages\\sklearn\\utils\\parallel.py\", line 139, in __call__\n",
      "    return self.function(*args, **kwargs)\n",
      "           ^^^^^^^^^^^^^^^^^^^^^^^^^^^^^^\n",
      "  File \"c:\\Users\\PB\\Documents\\GitHub\\Info251\\.conda\\Lib\\site-packages\\sklearn\\pipeline.py\", line 1531, in _transform_one\n",
      "    res = transformer.transform(X, **params.transform)\n",
      "          ^^^^^^^^^^^^^^^^^^^^^^^^^^^^^^^^^^^^^^^^^^^^\n",
      "  File \"c:\\Users\\PB\\Documents\\GitHub\\Info251\\.conda\\Lib\\site-packages\\sklearn\\utils\\_set_output.py\", line 319, in wrapped\n",
      "    data_to_wrap = f(self, X, *args, **kwargs)\n",
      "                   ^^^^^^^^^^^^^^^^^^^^^^^^^^^\n",
      "  File \"c:\\Users\\PB\\Documents\\GitHub\\Info251\\.conda\\Lib\\site-packages\\sklearn\\preprocessing\\_encoders.py\", line 1043, in transform\n",
      "    X_int, X_mask = self._transform(\n",
      "                    ^^^^^^^^^^^^^^^^\n",
      "  File \"c:\\Users\\PB\\Documents\\GitHub\\Info251\\.conda\\Lib\\site-packages\\sklearn\\preprocessing\\_encoders.py\", line 218, in _transform\n",
      "    raise ValueError(msg)\n",
      "ValueError: Found unknown categories [np.float64(339.0)] in column 3 during transform\n",
      "\n",
      "  warnings.warn(\n"
     ]
    }
   ],
   "source": [
    "from sklearn.model_selection import cross_val_score\n",
    "\n",
    "score = cross_val_score(pipe, X_train, y_train, cv = 5, scoring = 'roc_auc', verbose = 3)\n",
    "\n",
    "print(score)"
   ]
  },
  {
   "cell_type": "markdown",
   "metadata": {},
   "source": [
    "### Question 12: Estimating AUC using nested CV [extra-credit]\n",
    "\n",
    "Let's try to improve on the results of the decision tree by tweaking its hyperparameters. Since you already are an expert using nested CV, this is going to be a walk in the park! Compute the nested cv AUC-ROC of a decision tree pipeline. Use 5 folds for the inner loop and 3 folds for the outer loop. Include different values for \"max_depth\", \"max_features\" and \"max_leave_nodes\" in your hyperparameter grid. \n",
    " - Ensure that you print out the inner and outer fold scores for all combinations of hyperparams.\n",
    " - Report the AUC-ROC of a decision tree pipeline (average over outer fold scores)\n",
    " - Report the best hyperparameters used in each outer fold.\n",
    " - Interpret your results:\n",
    "   - Are they stable?\n",
    "   - To what extent do you think specific hyperparameters might lead to overfitting?\n",
    "   - How is run-time impacted by your choice of hyperparameters?\n",
    "   - Is hyperparameter optimization worth the trouble?\n",
    "\n",
    "**Hint 1**: The pipeline remains the same. You can access the list of all the hyperparams in your pipeline with pipeline.get_params_keys(). Notice the naming convention.\n",
    "\n",
    "**Hint 2**: [GridSearchCV](https://scikit-learn.org/stable/modules/generated/sklearn.model_selection.GridSearchCV.html) and [cross_val_score](https://scikit-learn.org/stable/modules/generated/sklearn.model_selection.cross_val_score.html) are your friends-- especially if you run them with verbose = 3.\n",
    "\n",
    "**Hint 3**: This gets computationally expensive quickly. Be intelligent about the hyperparameter values you include in the grid and the number of outer and inner folds you use (we use 5 inner folds and 3 outer folds)."
   ]
  },
  {
   "cell_type": "code",
   "execution_count": null,
   "metadata": {
    "lines_to_end_of_cell_marker": 2
   },
   "outputs": [],
   "source": [
    "from sklearn.model_selection import GridSearchCV\n",
    "from sklearn.model_selection import cross_validate\n",
    "\n",
    "# your code here    \n"
   ]
  },
  {
   "cell_type": "markdown",
   "metadata": {},
   "source": [
    "## Part III: ML pipeline for a random forest"
   ]
  },
  {
   "cell_type": "markdown",
   "metadata": {},
   "source": [
    "### Question 13: Bare bones random forest\n",
    "Just as you did for the classification tree, start by training a bare bones random forest using your training data. We will take care of the hyperparameter optimization later, but for the time being, use a maximum tree depth of 15. Hopefully is it clear by now why this is a good idea, since we are going to be training a bunch of trees. You should continue to use the same preprocessing step as before. \n",
    "\n",
    " - How many trees are in the forest?\n",
    " - Which are the most important features?\n",
    " - Explain the meaning of variable importance in the case of a random forest classifier."
   ]
  },
  {
   "cell_type": "code",
   "execution_count": null,
   "metadata": {},
   "outputs": [],
   "source": [
    "from sklearn.ensemble import RandomForestClassifier\n",
    "\n",
    "# your code here\n",
    "\n"
   ]
  },
  {
   "cell_type": "markdown",
   "metadata": {},
   "source": [
    "### Question 14: Estimating AUC using K-fold CV \n",
    "\n",
    "Calculate the 5-fold cross-validated AUC-ROC for the random forests pipeline. \n",
    "\n",
    "- Report the score for each fold as well as the average across all folds. \n",
    "\n",
    "**Hint 1**: sklearn.model_selection.cross_val_score is your friend. Setting the verbose option to 3 is useful. \n"
   ]
  },
  {
   "cell_type": "code",
   "execution_count": null,
   "metadata": {},
   "outputs": [],
   "source": [
    "# your code here\n"
   ]
  },
  {
   "cell_type": "markdown",
   "metadata": {},
   "source": [
    "### Question 15: Estimating AUC using nested CV [extra-credit]\n",
    "\n",
    "Let's try to improve on the results of the random forest by tweaking its hyperparameters. Build a pipeline that computes the nested cv AUC-ROC. Include different values for \"n_estimators\", \"max_samples\",\"max_features\", \"max_depth\" and \"max_leaf_nodes\" in your hyperparameter grid. \n",
    "- Print out the inner and outer fold scores for all combinations of hyperparams.  \n",
    "- Report the AUC-ROC of a decision tree pipeline (average over outer fold scores)\n",
    "- Report the best hyperparams used in each outer fold.\n",
    "- Interpret your results\n",
    "\n",
    "What do you notice about these results? How are these results related to those from the decision tree pipeline? Is hyperparameter optimization worth the trouble?\n",
    "\n",
    "**Hint 1**: The pipeline remains the same. You can acces the list of all the hyperparams in your pipeline with pipeline.get_params_keys(). Notice the naming convention.\n",
    "\n",
    "**Hint 2**: GridSearchCV and cross_val_score are your friends. Specially if you run them with verbose = 3.\n",
    "\n",
    "**Hint 3**: This gets computationally expensive quickly. Be intelligent about the hyperparam values you include in the grid."
   ]
  },
  {
   "cell_type": "code",
   "execution_count": null,
   "metadata": {},
   "outputs": [],
   "source": [
    "from sklearn.model_selection import GridSearchCV\n",
    "\n",
    "# your code here \n",
    "\n",
    "\n"
   ]
  },
  {
   "cell_type": "markdown",
   "metadata": {},
   "source": [
    "### Question 16: Take stock of parts II and III\n",
    "\n",
    "If you were to choose between a decision tree and a random forest for this classification task, what would be your choice and why? "
   ]
  },
  {
   "cell_type": "code",
   "execution_count": null,
   "metadata": {},
   "outputs": [],
   "source": [
    "# Your response here"
   ]
  },
  {
   "cell_type": "markdown",
   "metadata": {},
   "source": [
    "## Part IV: Test data, ROC curves and fairness thresholds\n",
    "\n",
    "Note that until now, we have not used the test data for any purpose. Let's now incorporate it into our analysis and use it to find a \"fair\" threshold value."
   ]
  },
  {
   "cell_type": "markdown",
   "metadata": {},
   "source": [
    "### Question 17: Find the optimal hyperparameters and fit a decision tree pipeline\n",
    "\n",
    "Use all of your training data to find the optimal hyperparameters and fit a decision tree pipeline. \n",
    "- Report the optimal hyperparameters. \n",
    "\n",
    "**Note:** Recall that nested cross-validation is only providing you with an estimate of the out-of-sample performance of the model finding procedure that involves hyperparameter optimization. At training time you should carry out the entire model finding procedure, including hyperparameter optimization. "
   ]
  },
  {
   "cell_type": "code",
   "execution_count": null,
   "metadata": {
    "scrolled": true
   },
   "outputs": [],
   "source": [
    "# your code here\n"
   ]
  },
  {
   "cell_type": "markdown",
   "metadata": {},
   "source": [
    "### Question 18: Scores and the ROC curve\n",
    "\n",
    "Use the fitted pipeline to compute score values for all instances in the test set. \n",
    "- Show the distribution of the scores in a histogram. \n",
    "- Additionally, compute the (FPR,TPR) combinations for all relevant threshold values and use them to plot the ROC curve in a different figure. Following the convention, include a dashed line along the diagonal. Remember to label the axes and to make the figures as polished as possible.\n",
    "\n",
    "**Note 1**: You should NOT be using sklearn.metrics.auc or sklearn.metrics.RocCurveDisplay to calculate or display the ROC curve. Please code this part yourself."
   ]
  },
  {
   "cell_type": "code",
   "execution_count": null,
   "metadata": {},
   "outputs": [],
   "source": [
    "# your code here\n"
   ]
  },
  {
   "cell_type": "markdown",
   "metadata": {},
   "source": [
    "### Question 19:  ROC curves by racial groups\n",
    "\n",
    "Compute and plot in the same figure the ROC curves for the following racial groups identified by the ACS:\n",
    "\n",
    "* White (RAC1P==1) (plot in blue)\n",
    "* African American (RAC1P==2) (plot in orange)\n",
    "* Asian American (RAC1P==6) (plot in green)\n",
    "\n",
    "Interpret the results."
   ]
  },
  {
   "cell_type": "code",
   "execution_count": null,
   "metadata": {},
   "outputs": [],
   "source": [
    "# your code here\n"
   ]
  },
  {
   "cell_type": "markdown",
   "metadata": {},
   "source": [
    "### Question 20: Achieving error parity \n",
    "\n",
    "Implement a thresholding strategy that satisfies error parity for all racial groups with FPR = 0.25, TPR = 0.7 and $\\epsilon$ = 0.025. In plain english, find a way of setting thresholds for the members of each group in the test data that, when evaluated on the test data, delivers FPR and TPR values that differ at most from the objective values by $\\epsilon$.  \n",
    " - Plot the estimated TPRs and FPRs of the racial groups in the ROC plot. Use star markers, colored accordingly. \n",
    "\n",
    "**Hint**: Consider using group-specific stochastic thresholds."
   ]
  },
  {
   "cell_type": "code",
   "execution_count": null,
   "metadata": {},
   "outputs": [],
   "source": [
    "# your code here\n"
   ]
  },
  {
   "cell_type": "markdown",
   "metadata": {},
   "source": [
    "### Question 21: Improving the results\n",
    "\n",
    "Can you improve the results from Question 20? That is, can you tweak your algorithm to deliver a higher TPR and lower FPR while still satisfying error parity with epsilon = 0.025? \n",
    "- What is the best result that you are able to achieve?\n",
    "- Is there a hard limit on how much you can improve?"
   ]
  },
  {
   "cell_type": "code",
   "execution_count": null,
   "metadata": {},
   "outputs": [],
   "source": [
    "# your code here\n"
   ]
  },
  {
   "cell_type": "markdown",
   "metadata": {},
   "source": [
    "### Question 22: Conclusion\n",
    "\n",
    "What can you say about welfare and error parity? Some things to consider:\n",
    "\n",
    "* In this income prediction task, is enforcing error parity costly?\n",
    "* Would you expect this results to generalize to other predictions problems?\n",
    "* Is the group definition relevant?\n",
    "* Who benefits from enforcing error parity? Who doesn't?\n"
   ]
  },
  {
   "cell_type": "code",
   "execution_count": null,
   "metadata": {},
   "outputs": [],
   "source": []
  }
 ],
 "metadata": {
  "anaconda-cloud": {},
  "jupytext": {
   "formats": "ipynb,py:light"
  },
  "kernelspec": {
   "display_name": "Python 3",
   "language": "python",
   "name": "python3"
  },
  "language_info": {
   "codemirror_mode": {
    "name": "ipython",
    "version": 3
   },
   "file_extension": ".py",
   "mimetype": "text/x-python",
   "name": "python",
   "nbconvert_exporter": "python",
   "pygments_lexer": "ipython3",
   "version": "3.11.11"
  }
 },
 "nbformat": 4,
 "nbformat_minor": 4
}
