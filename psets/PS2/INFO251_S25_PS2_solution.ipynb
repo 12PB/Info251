{
 "cells": [
  {
   "cell_type": "markdown",
   "metadata": {},
   "source": [
    "# Problem Set 2"
   ]
  },
  {
   "cell_type": "markdown",
   "metadata": {},
   "source": [
    "## Introduction to the assignment\n",
    "\n",
    "For this assignment, you will be using data from the [Progresa program](http://en.wikipedia.org/wiki/Oportunidades), a government social assistance program in Mexico. This program, as well as the details of its impact, are described in the paper \"[School subsidies for the poor: evaluating the Mexican Progresa poverty program](http://www.sciencedirect.com/science/article/pii/S0304387803001858)\", by Paul Shultz (available on bCourses). Please familiarize yourself with the PROGRESA program before beginning this problem set, so you have a rough sense of where the data come from and how they were generated. If you just proceed into the problem set without understanding Progresa or the data, it will be very difficult!\n",
    "\n",
    "The goal of this problem set is to implement some of the basic econometric techniques that you are learning in class to measure the impact of Progresa on secondary school enrollment rates. The timeline of the program was:\n",
    "\n",
    " * Baseline survey conducted in 1997\n",
    " * Intervention begins in 1998, \"Wave 1\" of surveys conducted in 1998\n",
    " * \"Wave 2\" of surveys conducted in 1999\n",
    " * Evaluation ends in 2000, at which point the control villages were treated. \n",
    " \n",
    "When you are ready, download the progresa_sample.csv data from bCourses. The data are actual data collected to evaluate the impact of the Progresa program.  In this file, each row corresponds to an observation taken for a given child for a given year. There are two years of data (1997 and 1998), and just under 40,000 children who are surveyed in each year. For each child-year observation, the following variables are collected:\n",
    "\n",
    "| Variable name | Description|\n",
    "|------|------|\n",
    "|year\t  |year in which data is collected\n",
    "|sex\t  |male = 1|\n",
    "|indig\t  |indigenous = 1|\n",
    "|dist_sec |nearest distance to a secondary school|\n",
    "|sc\t      |enrolled in school in year of survey|\n",
    "|grc      |grade enrolled|\n",
    "|fam_n    |family size|\n",
    "|min_dist |\tmin distance to an urban center|\n",
    "|dist_cap |\tmin distance to the capital|\n",
    "|poor     |\tpoor = 1|\n",
    "|progresa |treatment =1|\n",
    "|hohedu\t  |years of schooling of head of household|\n",
    "|hohwag\t  |monthly wages of head of household|\n",
    "|welfare_index|\twelfare index used to classify poor|\n",
    "|hohsex\t|gender of head of household (male=1)|\n",
    "|hohage\t|age of head of household|\n",
    "|age\t|years old|\n",
    "|folnum\t|individual id|\n",
    "|village|\tvillage id|\n",
    "|sc97\t|schooling in 1997|"
   ]
  },
  {
   "cell_type": "markdown",
   "metadata": {},
   "source": [
    "---\n",
    "\n",
    "## Part 1: Descriptive analysis\n",
    "\n",
    "### 1.1\tSummary Statistics\n",
    "\n",
    "Present summary statistics (mean, standard error, and the values at the 5th and 95th percentiles) for all of the demographic variables in the dataset (i.e., everything except year, folnum, village). Present these in a single table alphabetized by variable name. Do NOT simply expect the grader to scroll through your output!\n",
    "\n",
    "*Note:* For this and subsequent problems, you will need to be careful in how you deal with missing (NULL) values. You should not blindly drop rows and columns where any data field is missing.  For instance, in calculating the average `hohwag`, you should average the `hohwag` values from all households that report a value (even if the household does not have a recorded `age` value, for example). "
   ]
  },
  {
   "cell_type": "code",
   "execution_count": 1,
   "metadata": {},
   "outputs": [],
   "source": [
    "# your code here\n",
    "import pandas as pd\n",
    "import numpy as np\n",
    "import scipy.stats as stats\n",
    "import statsmodels.api as sm\n",
    "import statsmodels.formula.api as smf\n",
    "import matplotlib.pyplot as plt\n",
    "%matplotlib inline"
   ]
  },
  {
   "cell_type": "code",
   "execution_count": 3,
   "metadata": {},
   "outputs": [
    {
     "name": "stdout",
     "output_type": "stream",
     "text": [
      "   year  sex  indig  dist_sec   sc  grc  fam_n   min_dist   dist_cap   poor  \\\n",
      "0    97  0.0    0.0     4.473  1.0  7.0      7  21.168384  21.168384  pobre   \n",
      "1    98  0.0    0.0     4.473  1.0  8.0      7  21.168384  21.168384  pobre   \n",
      "2    97  1.0    0.0     4.473  1.0  6.0      7  21.168384  21.168384  pobre   \n",
      "3    98  1.0    0.0     4.473  1.0  7.0      7  21.168384  21.168384  pobre   \n",
      "4    97  0.0    0.0     4.473  1.0  2.0      7  21.168384  21.168384  pobre   \n",
      "\n",
      "   ... hohedu  hohwag  welfare_index  hohsex  hohage  age  village  folnum  \\\n",
      "0  ...      6     0.0          583.0     1.0    35.0   13      163       1   \n",
      "1  ...      6     0.0          583.0     1.0    35.0   14      163       1   \n",
      "2  ...      6     0.0          583.0     1.0    35.0   12      163       2   \n",
      "3  ...      6     0.0          583.0     1.0    35.0   13      163       2   \n",
      "4  ...      6     0.0          583.0     1.0    35.0    8      163       3   \n",
      "\n",
      "   grc97  sc97  \n",
      "0      7   1.0  \n",
      "1      7   1.0  \n",
      "2      6   1.0  \n",
      "3      6   1.0  \n",
      "4      2   1.0  \n",
      "\n",
      "[5 rows x 21 columns]\n"
     ]
    }
   ],
   "source": [
    "progresa_df = pd.read_csv('progresa_sample.csv')\n",
    "print(progresa_df.head())"
   ]
  },
  {
   "cell_type": "code",
   "execution_count": 4,
   "metadata": {},
   "outputs": [
    {
     "name": "stdout",
     "output_type": "stream",
     "text": [
      "poor levels:  ['pobre', 'no pobre']\n",
      "progresa levels:  ['0', 'basal']\n"
     ]
    }
   ],
   "source": [
    "print('poor levels: ', progresa_df['poor'].unique().tolist())\n",
    "print('progresa levels: ', progresa_df['progresa'].unique().tolist())"
   ]
  },
  {
   "cell_type": "code",
   "execution_count": 5,
   "metadata": {},
   "outputs": [],
   "source": [
    "# create dictionary to convert 'poor' values to int\n",
    "poor_dict = {\"no pobre\":0 ,\"pobre\":1} \n",
    "# create new variable with pobre dictionary\n",
    "progresa_df['poor'] = progresa_df['poor'].replace(poor_dict)\n",
    "# # convert poor to integer\n",
    "progresa_df['poor'] = pd.to_numeric(progresa_df['poor'])"
   ]
  },
  {
   "cell_type": "code",
   "execution_count": 6,
   "metadata": {},
   "outputs": [],
   "source": [
    "# create dictionary to convert 'progresa' values to int\n",
    "progresa_dict = {\"0\":0 , \"basal\":1}\n",
    "\n",
    "# create new variable with pobre dictionary\n",
    "progresa_df['progresa'] = progresa_df['progresa'].replace(progresa_dict)\n",
    "# convert poor to integer\n",
    "progresa_df['progresa'] = pd.to_numeric(progresa_df['progresa'])"
   ]
  },
  {
   "cell_type": "code",
   "execution_count": 7,
   "metadata": {},
   "outputs": [],
   "source": [
    "# drop unnecessary variables (year, folnmum, village)\n",
    "progresa_demog_df = progresa_df.drop(['year', 'village', 'folnum'], axis = 1)"
   ]
  },
  {
   "cell_type": "code",
   "execution_count": 8,
   "metadata": {},
   "outputs": [
    {
     "data": {
      "text/html": [
       "<div>\n",
       "<style scoped>\n",
       "    .dataframe tbody tr th:only-of-type {\n",
       "        vertical-align: middle;\n",
       "    }\n",
       "\n",
       "    .dataframe tbody tr th {\n",
       "        vertical-align: top;\n",
       "    }\n",
       "\n",
       "    .dataframe thead th {\n",
       "        text-align: right;\n",
       "    }\n",
       "</style>\n",
       "<table border=\"1\" class=\"dataframe\">\n",
       "  <thead>\n",
       "    <tr style=\"text-align: right;\">\n",
       "      <th></th>\n",
       "      <th>mean</th>\n",
       "      <th>se</th>\n",
       "      <th>5%</th>\n",
       "      <th>95%</th>\n",
       "    </tr>\n",
       "  </thead>\n",
       "  <tbody>\n",
       "    <tr>\n",
       "      <th>age</th>\n",
       "      <td>11.366</td>\n",
       "      <td>0.011</td>\n",
       "      <td>7.000</td>\n",
       "      <td>16.000</td>\n",
       "    </tr>\n",
       "    <tr>\n",
       "      <th>dist_cap</th>\n",
       "      <td>147.674</td>\n",
       "      <td>0.274</td>\n",
       "      <td>43.886</td>\n",
       "      <td>289.016</td>\n",
       "    </tr>\n",
       "    <tr>\n",
       "      <th>dist_sec</th>\n",
       "      <td>2.419</td>\n",
       "      <td>0.008</td>\n",
       "      <td>0.000</td>\n",
       "      <td>5.875</td>\n",
       "    </tr>\n",
       "    <tr>\n",
       "      <th>fam_n</th>\n",
       "      <td>7.216</td>\n",
       "      <td>0.008</td>\n",
       "      <td>4.000</td>\n",
       "      <td>11.000</td>\n",
       "    </tr>\n",
       "    <tr>\n",
       "      <th>grc</th>\n",
       "      <td>3.964</td>\n",
       "      <td>0.009</td>\n",
       "      <td>0.000</td>\n",
       "      <td>8.000</td>\n",
       "    </tr>\n",
       "    <tr>\n",
       "      <th>grc97</th>\n",
       "      <td>3.705</td>\n",
       "      <td>0.009</td>\n",
       "      <td>0.000</td>\n",
       "      <td>8.000</td>\n",
       "    </tr>\n",
       "    <tr>\n",
       "      <th>hohage</th>\n",
       "      <td>44.437</td>\n",
       "      <td>0.042</td>\n",
       "      <td>29.000</td>\n",
       "      <td>66.000</td>\n",
       "    </tr>\n",
       "    <tr>\n",
       "      <th>hohedu</th>\n",
       "      <td>2.768</td>\n",
       "      <td>0.010</td>\n",
       "      <td>0.000</td>\n",
       "      <td>7.000</td>\n",
       "    </tr>\n",
       "    <tr>\n",
       "      <th>hohsex</th>\n",
       "      <td>0.925</td>\n",
       "      <td>0.001</td>\n",
       "      <td>0.000</td>\n",
       "      <td>1.000</td>\n",
       "    </tr>\n",
       "    <tr>\n",
       "      <th>hohwag</th>\n",
       "      <td>586.985</td>\n",
       "      <td>2.836</td>\n",
       "      <td>0.000</td>\n",
       "      <td>1440.000</td>\n",
       "    </tr>\n",
       "    <tr>\n",
       "      <th>indig</th>\n",
       "      <td>0.298</td>\n",
       "      <td>0.002</td>\n",
       "      <td>0.000</td>\n",
       "      <td>1.000</td>\n",
       "    </tr>\n",
       "    <tr>\n",
       "      <th>min_dist</th>\n",
       "      <td>103.448</td>\n",
       "      <td>0.151</td>\n",
       "      <td>31.975</td>\n",
       "      <td>162.355</td>\n",
       "    </tr>\n",
       "    <tr>\n",
       "      <th>poor</th>\n",
       "      <td>0.846</td>\n",
       "      <td>0.001</td>\n",
       "      <td>0.000</td>\n",
       "      <td>1.000</td>\n",
       "    </tr>\n",
       "    <tr>\n",
       "      <th>progresa</th>\n",
       "      <td>0.616</td>\n",
       "      <td>0.002</td>\n",
       "      <td>0.000</td>\n",
       "      <td>1.000</td>\n",
       "    </tr>\n",
       "    <tr>\n",
       "      <th>sc</th>\n",
       "      <td>0.820</td>\n",
       "      <td>0.001</td>\n",
       "      <td>0.000</td>\n",
       "      <td>1.000</td>\n",
       "    </tr>\n",
       "    <tr>\n",
       "      <th>sc97</th>\n",
       "      <td>0.814</td>\n",
       "      <td>0.001</td>\n",
       "      <td>0.000</td>\n",
       "      <td>1.000</td>\n",
       "    </tr>\n",
       "    <tr>\n",
       "      <th>sex</th>\n",
       "      <td>0.512</td>\n",
       "      <td>0.002</td>\n",
       "      <td>0.000</td>\n",
       "      <td>1.000</td>\n",
       "    </tr>\n",
       "    <tr>\n",
       "      <th>welfare_index</th>\n",
       "      <td>690.347</td>\n",
       "      <td>0.502</td>\n",
       "      <td>477.000</td>\n",
       "      <td>937.659</td>\n",
       "    </tr>\n",
       "  </tbody>\n",
       "</table>\n",
       "</div>"
      ],
      "text/plain": [
       "                  mean       se       5%      95%\n",
       "age             11.366    0.011    7.000   16.000\n",
       "dist_cap       147.674    0.274   43.886  289.016\n",
       "dist_sec         2.419    0.008    0.000    5.875\n",
       "fam_n            7.216    0.008    4.000   11.000\n",
       "grc              3.964    0.009    0.000    8.000\n",
       "grc97            3.705    0.009    0.000    8.000\n",
       "hohage          44.437    0.042   29.000   66.000\n",
       "hohedu           2.768    0.010    0.000    7.000\n",
       "hohsex           0.925    0.001    0.000    1.000\n",
       "hohwag         586.985    2.836    0.000 1440.000\n",
       "indig            0.298    0.002    0.000    1.000\n",
       "min_dist       103.448    0.151   31.975  162.355\n",
       "poor             0.846    0.001    0.000    1.000\n",
       "progresa         0.616    0.002    0.000    1.000\n",
       "sc               0.820    0.001    0.000    1.000\n",
       "sc97             0.814    0.001    0.000    1.000\n",
       "sex              0.512    0.002    0.000    1.000\n",
       "welfare_index  690.347    0.502  477.000  937.659"
      ]
     },
     "execution_count": 8,
     "metadata": {},
     "output_type": "execute_result"
    }
   ],
   "source": [
    "# print summary stats table. Standard error is standard deviation / square root of the number of observations (OR use .sem())\n",
    "pd.options.display.float_format = '{:8.3f}'.format # Set formating for displaying tables\n",
    "summ_stats_df = progresa_demog_df.describe(percentiles = [0.05, 0.95]).T[['mean','std', '5%', '95%']].sort_index()\n",
    "summ_stats_df['std'] = summ_stats_df['std'] / np.sqrt(progresa_demog_df.shape[0])\n",
    "summ_stats_df = summ_stats_df.rename(columns = {'std':'se'})\n",
    "summ_stats_df"
   ]
  },
  {
   "cell_type": "markdown",
   "metadata": {},
   "source": [
    "### 1.2 Differences at baseline?\n",
    "\n",
    "Are the baseline (1997) demographic characteristics **for the poor**  different in treatment and control villages?  Present your results in a single table with the following columns and 14 (or so) rows (alphabetized by variable name):\n",
    "\n",
    "\n",
    "| Variable name | Average value (Treatment villages) | Average value (Control villages) | Difference (Treat - Control) | p-value |\n",
    "|------|------|------|------|------|\n",
    "|Male|?|?|?|?|\n",
    "\n",
    " *Hint:* Use a T-Test to determine whether there is a statistically significant difference in the average values of each of the variables in the dataset. Focus only on the data from 1997 from poor households (i.e., poor=='pobre').\n"
   ]
  },
  {
   "cell_type": "code",
   "execution_count": 9,
   "metadata": {},
   "outputs": [],
   "source": [
    "# your code here\n",
    "# Generate data frame with only 1997 data and with only poor households\n",
    "pre_poor_df = progresa_df[(progresa_df['year'] == 97) & (progresa_df['poor'] == 1)]\n",
    "\n",
    "# create treatment data frame with poor households\n",
    "pre_treat = pre_poor_df[pre_poor_df['progresa'] == 1]\n",
    "\n",
    "# create control data frame with poor households\n",
    "pre_control = pre_poor_df[pre_poor_df['progresa'] == 0]"
   ]
  },
  {
   "cell_type": "code",
   "execution_count": 10,
   "metadata": {},
   "outputs": [],
   "source": [
    "# drop unecessary variables for demographic characteristics\n",
    "pre_treat_demog = pre_treat.drop(['poor', 'progresa', 'year', 'village', 'folnum', 'sc', 'grc'], axis = 1)\n",
    "pre_control_demog = pre_control.drop(['poor', 'progresa', 'year', 'village', 'folnum', 'sc', 'grc'], axis = 1)"
   ]
  },
  {
   "cell_type": "code",
   "execution_count": 11,
   "metadata": {},
   "outputs": [],
   "source": [
    "# Create data frame with p-values\n",
    "means_t = []\n",
    "means_c = []\n",
    "diffs = []\n",
    "pvalues = []\n",
    "demogvars = pre_control_demog.columns.tolist()\n",
    "for var in demogvars:\n",
    "    #print var\n",
    "    x_t = pre_treat_demog[var].dropna().mean()\n",
    "    x_c = pre_control_demog[var].dropna().mean()   \n",
    "    diff = x_t - x_c\n",
    "    result = stats.ttest_ind(pre_treat_demog[var].dropna(), pre_control_demog[var].dropna())\n",
    "    means_t.append(x_t)\n",
    "    means_c.append(x_c)\n",
    "    diffs.append(diff)\n",
    "    pvalues.append(result[1])\n",
    "\n",
    "mean_compare = pd.DataFrame({'Variable name':demogvars,\n",
    "                             'Average value (Treatment villages)':means_t,\n",
    "                             'Average value (Control villages)':means_c,\n",
    "                             'Difference (Treat - Control)':diffs,\n",
    "                             'p-value':pvalues})"
   ]
  },
  {
   "cell_type": "code",
   "execution_count": 12,
   "metadata": {},
   "outputs": [
    {
     "data": {
      "text/html": [
       "<div>\n",
       "<style scoped>\n",
       "    .dataframe tbody tr th:only-of-type {\n",
       "        vertical-align: middle;\n",
       "    }\n",
       "\n",
       "    .dataframe tbody tr th {\n",
       "        vertical-align: top;\n",
       "    }\n",
       "\n",
       "    .dataframe thead th {\n",
       "        text-align: right;\n",
       "    }\n",
       "</style>\n",
       "<table border=\"1\" class=\"dataframe\">\n",
       "  <thead>\n",
       "    <tr style=\"text-align: right;\">\n",
       "      <th></th>\n",
       "      <th>Variable name</th>\n",
       "      <th>Average value (Treatment villages)</th>\n",
       "      <th>Average value (Control villages)</th>\n",
       "      <th>Difference (Treat - Control)</th>\n",
       "      <th>p-value</th>\n",
       "    </tr>\n",
       "  </thead>\n",
       "  <tbody>\n",
       "    <tr>\n",
       "      <th>11</th>\n",
       "      <td>age</td>\n",
       "      <td>10.7170</td>\n",
       "      <td>10.7420</td>\n",
       "      <td>-0.0250</td>\n",
       "      <td>0.4786</td>\n",
       "    </tr>\n",
       "    <tr>\n",
       "      <th>5</th>\n",
       "      <td>dist_cap</td>\n",
       "      <td>150.8291</td>\n",
       "      <td>153.7697</td>\n",
       "      <td>-2.9407</td>\n",
       "      <td>0.0008</td>\n",
       "    </tr>\n",
       "    <tr>\n",
       "      <th>2</th>\n",
       "      <td>dist_sec</td>\n",
       "      <td>2.4531</td>\n",
       "      <td>2.5077</td>\n",
       "      <td>-0.0545</td>\n",
       "      <td>0.0357</td>\n",
       "    </tr>\n",
       "    <tr>\n",
       "      <th>3</th>\n",
       "      <td>fam_n</td>\n",
       "      <td>7.2813</td>\n",
       "      <td>7.3025</td>\n",
       "      <td>-0.0211</td>\n",
       "      <td>0.4271</td>\n",
       "    </tr>\n",
       "    <tr>\n",
       "      <th>12</th>\n",
       "      <td>grc97</td>\n",
       "      <td>3.5316</td>\n",
       "      <td>3.5430</td>\n",
       "      <td>-0.0115</td>\n",
       "      <td>0.6890</td>\n",
       "    </tr>\n",
       "    <tr>\n",
       "      <th>10</th>\n",
       "      <td>hohage</td>\n",
       "      <td>43.6488</td>\n",
       "      <td>44.2769</td>\n",
       "      <td>-0.6281</td>\n",
       "      <td>0.0000</td>\n",
       "    </tr>\n",
       "    <tr>\n",
       "      <th>6</th>\n",
       "      <td>hohedu</td>\n",
       "      <td>2.6631</td>\n",
       "      <td>2.5903</td>\n",
       "      <td>0.0728</td>\n",
       "      <td>0.0111</td>\n",
       "    </tr>\n",
       "    <tr>\n",
       "      <th>9</th>\n",
       "      <td>hohsex</td>\n",
       "      <td>0.9247</td>\n",
       "      <td>0.9229</td>\n",
       "      <td>0.0017</td>\n",
       "      <td>0.5712</td>\n",
       "    </tr>\n",
       "    <tr>\n",
       "      <th>7</th>\n",
       "      <td>hohwag</td>\n",
       "      <td>544.3395</td>\n",
       "      <td>573.1636</td>\n",
       "      <td>-28.8240</td>\n",
       "      <td>0.0003</td>\n",
       "    </tr>\n",
       "    <tr>\n",
       "      <th>1</th>\n",
       "      <td>indig</td>\n",
       "      <td>0.3260</td>\n",
       "      <td>0.3322</td>\n",
       "      <td>-0.0062</td>\n",
       "      <td>0.2454</td>\n",
       "    </tr>\n",
       "    <tr>\n",
       "      <th>4</th>\n",
       "      <td>min_dist</td>\n",
       "      <td>107.1529</td>\n",
       "      <td>103.2379</td>\n",
       "      <td>3.9151</td>\n",
       "      <td>0.0000</td>\n",
       "    </tr>\n",
       "    <tr>\n",
       "      <th>13</th>\n",
       "      <td>sc97</td>\n",
       "      <td>0.8227</td>\n",
       "      <td>0.8152</td>\n",
       "      <td>0.0075</td>\n",
       "      <td>0.0952</td>\n",
       "    </tr>\n",
       "    <tr>\n",
       "      <th>0</th>\n",
       "      <td>sex</td>\n",
       "      <td>0.5193</td>\n",
       "      <td>0.5051</td>\n",
       "      <td>0.0143</td>\n",
       "      <td>0.0122</td>\n",
       "    </tr>\n",
       "    <tr>\n",
       "      <th>8</th>\n",
       "      <td>welfare_index</td>\n",
       "      <td>655.4284</td>\n",
       "      <td>659.5791</td>\n",
       "      <td>-4.1507</td>\n",
       "      <td>0.0014</td>\n",
       "    </tr>\n",
       "  </tbody>\n",
       "</table>\n",
       "</div>"
      ],
      "text/plain": [
       "    Variable name  Average value (Treatment villages)  \\\n",
       "11            age                             10.7170   \n",
       "5        dist_cap                            150.8291   \n",
       "2        dist_sec                              2.4531   \n",
       "3           fam_n                              7.2813   \n",
       "12          grc97                              3.5316   \n",
       "10         hohage                             43.6488   \n",
       "6          hohedu                              2.6631   \n",
       "9          hohsex                              0.9247   \n",
       "7          hohwag                            544.3395   \n",
       "1           indig                              0.3260   \n",
       "4        min_dist                            107.1529   \n",
       "13           sc97                              0.8227   \n",
       "0             sex                              0.5193   \n",
       "8   welfare_index                            655.4284   \n",
       "\n",
       "    Average value (Control villages)  Difference (Treat - Control)  p-value  \n",
       "11                           10.7420                       -0.0250   0.4786  \n",
       "5                           153.7697                       -2.9407   0.0008  \n",
       "2                             2.5077                       -0.0545   0.0357  \n",
       "3                             7.3025                       -0.0211   0.4271  \n",
       "12                            3.5430                       -0.0115   0.6890  \n",
       "10                           44.2769                       -0.6281   0.0000  \n",
       "6                             2.5903                        0.0728   0.0111  \n",
       "9                             0.9229                        0.0017   0.5712  \n",
       "7                           573.1636                      -28.8240   0.0003  \n",
       "1                             0.3322                       -0.0062   0.2454  \n",
       "4                           103.2379                        3.9151   0.0000  \n",
       "13                            0.8152                        0.0075   0.0952  \n",
       "0                             0.5051                        0.0143   0.0122  \n",
       "8                           659.5791                       -4.1507   0.0014  "
      ]
     },
     "execution_count": 12,
     "metadata": {},
     "output_type": "execute_result"
    }
   ],
   "source": [
    "pd.options.display.float_format = '{:1,.4f}'.format\n",
    "mean_compare[['Variable name', 'Average value (Treatment villages)', 'Average value (Control villages)', \\\n",
    "          'Difference (Treat - Control)', 'p-value']].sort_values('Variable name')"
   ]
  },
  {
   "cell_type": "markdown",
   "metadata": {},
   "source": [
    "### 1.3 Interpretation\n",
    "\n",
    "* A: Are there statistically significant differences between treatment and control villages at baseline? \n",
    "* B: Why does it matter if there are differences at baseline? \n",
    "* C: What does this imply about how to measure the impact of the treatment?"
   ]
  },
  {
   "cell_type": "markdown",
   "metadata": {},
   "source": [
    "* A. Yes, treatment and control villages have several statistically significant differences. we find that there are 8 characteristics where, with at least 90% confidence, we can reject the null hypothesis that poor households in the treatment and control villages have the same avarage value at baseline. Households in PROGRESA villages differ from control households in that they more likely to be closer to the capital, closer to a secondary school, and a greater distance from an urban center. Moreover, the head of household in PROGRESA villages are on average younger, have more education, and earn a lower wage. PROGRESA households also have lower socioeconomic status, as measured by the welfare_index and children are more likely to be male.\n",
    "\n",
    "* B. When treatment and control villages are different at baseline, it suggests that treatment assignment was not purely random. Due to random chance, we might expect that the occasional variable might not be balanced between treatment and control, even under perfect randomization. These baseline differences are important to note. It is possible that the differences could have arisen due to random chance, but unlikely. When a large number of characteristics appear to be systematically different between treatment and control (as is the case in our sample), we should be concerned that certain types of villages were systematically assigned to treatment, while others were assigned to control.\n",
    "\n",
    "* C. When treatment assignment is not random, the simple difference in outcomes between treatment and control units is no longer an unbiased estimate of the treatment effect. Since T and C villages were different before the intervention, we might expect they would also be different after the intervention, *even in the absence of the intervention.* Thus, we would be incorrectly attributing a treatment effect to the intervention, when in reality it was due to pre-existing differences between the treatment and control villages. Therefore, when we conduct our analysis of the impact of PROGRESA we will want to control for differences in village and household characteristics at baseline."
   ]
  },
  {
   "cell_type": "markdown",
   "metadata": {},
   "source": [
    "### 1.4 Graphical exploration\n",
    "\n",
    "Visualize the distribution of village enrollment rates among poor households in treated villages, before and after treatment.\n",
    "\n",
    "Specifically, for each treated village:\n",
    "\n",
    "- First, calculate the average rate of enrollment of poor households in 1997.\n",
    "- Then, compute the average rate of enrollment of poor households in 1998.\n",
    "- Create a graph showing the distribution of these average enrollment rates (one histogram for 1997 and one histogram for 1998). On each histogram, draw a vertical line that intersects the x-axis at the average value (across all households). \n",
    "- Ensure that your graph is well formatted / publication quality -- add a title, x-axis labels, a legend, and any other elements as necessary.\n",
    "\n",
    "Then, answer the following questions:\n",
    "- Does there appear to be a difference between the average enrolment rates in 1997 and 1998? Is this difference statistically significant?\n",
    "\n",
    "Now, repeat the process, and generate a second set of graphs comparing the distributions for non-poor households, before and after treatment.\n",
    "\n",
    "- Does there appear to be a difference between the average enrolment rates in 1997 and 1998? Is this difference statistically significant?\n"
   ]
  },
  {
   "cell_type": "code",
   "execution_count": 14,
   "metadata": {},
   "outputs": [
    {
     "data": {
      "image/png": "[encoded data removed]",
      "text/plain": [
       "<Figure size 800x800 with 1 Axes>"
      ]
     },
     "metadata": {},
     "output_type": "display_data"
    }
   ],
   "source": [
    "# Your code here\n",
    "#print progresa_df.shape\n",
    "poor_97 = progresa_df[(progresa_df['year'] == 97) &\n",
    "                               (progresa_df['poor'] == 1) &\n",
    "                               (progresa_df['progresa'] == 1)]\n",
    "poor_98 = progresa_df[(progresa_df['year'] == 98) &\n",
    "                               (progresa_df['poor'] == 1)  &\n",
    "                               (progresa_df['progresa'] == 1)]\n",
    "\n",
    "poor_97_en=pd.DataFrame(poor_97.groupby('village')['sc'].mean())\n",
    "poor_98_en=pd.DataFrame(poor_98.groupby('village')['sc'].mean())\n",
    "\n",
    "fig, ax = plt.subplots(figsize = (8, 8))\n",
    "\n",
    "ax.hist(poor_97_en.values, color=\"red\", bins=30, alpha = 0.4, label = 'Pre Treatment')\n",
    "ax.hist(poor_98_en.values, color=\"green\", bins=30, alpha = 0.4, label = 'Post Treatment')\n",
    "\n",
    "# pre_mean = poor_treatment97_en['sc'].mean()\n",
    "pre_mean = poor_97['sc'].mean()\n",
    "plt.axvline(pre_mean, color=\"red\", linewidth=2)\n",
    "\n",
    "post_mean = poor_98['sc'].mean()\n",
    "plt.axvline(post_mean, color=\"green\", linewidth=2)\n",
    "\n",
    "plt.ylim(0, 45)\n",
    "plt.xlim(0.35, 1)\n",
    "plt.xlabel(\"Enrolment Rate\")\n",
    "\n",
    "plt.legend()\n",
    "plt.title(\"Village Enrollment Rates Among Poor Households\\nIn Treatment Villages (Pre v/s Post)\")\n",
    "plt.show()"
   ]
  },
  {
   "cell_type": "code",
   "execution_count": 15,
   "metadata": {},
   "outputs": [
    {
     "name": "stdout",
     "output_type": "stream",
     "text": [
      "Difference: 0.023782233992046597\n",
      "p-value: 1.2976490728161e-09\n"
     ]
    }
   ],
   "source": [
    "t, p = stats.ttest_ind(poor_97['sc'].dropna(), poor_98['sc'].dropna())\n",
    "print('Difference:', (poor_98['sc'].mean()-poor_97['sc'].mean()))\n",
    "print('p-value:', p)"
   ]
  },
  {
   "cell_type": "code",
   "execution_count": 16,
   "metadata": {},
   "outputs": [
    {
     "name": "stdout",
     "output_type": "stream",
     "text": [
      "Difference: 0.023782233992046597\n",
      "p-value: 1.1416386466097403e-09\n"
     ]
    }
   ],
   "source": [
    "t, p = stats.ttest_ind(poor_97['sc'].dropna(), poor_98['sc'].dropna(), equal_var=False)\n",
    "print('Difference:', (poor_98['sc'].mean()-poor_97['sc'].mean()))\n",
    "print('p-value:', p)"
   ]
  },
  {
   "cell_type": "markdown",
   "metadata": {},
   "source": [
    "On average, among poor households, enrollment rates increased by 2.3 p.p between 1997 and 1998. This difference in means was statistically significant at standard levels of stastical significance (p<0.05). Note that this doesn't necessary mean that the treatment had an impact, it just says that average enrollment rates were higher in the period post-treatment than they were in the period pre-treatment."
   ]
  },
  {
   "cell_type": "code",
   "execution_count": 19,
   "metadata": {},
   "outputs": [
    {
     "data": {
      "image/png": "[encoded data removed]",
      "text/plain": [
       "<Figure size 800x800 with 1 Axes>"
      ]
     },
     "metadata": {},
     "output_type": "display_data"
    }
   ],
   "source": [
    "# Your code here\n",
    "#print progresa_df.shape\n",
    "nonpoor_97 = progresa_df[(progresa_df['year'] == 97) &\n",
    "                               (progresa_df['poor'] == 0)  &\n",
    "                               (progresa_df['progresa'] == 1) ]\n",
    "nonpoor_98 = progresa_df[(progresa_df['year'] == 98)  &\n",
    "                               (progresa_df['poor'] == 0)  &\n",
    "                               (progresa_df['progresa'] == 1)]\n",
    "\n",
    "nonpoor_97_en=pd.DataFrame(nonpoor_97.groupby('village')['sc'].mean())\n",
    "nonpoor_98_en=pd.DataFrame(nonpoor_98.groupby('village')['sc'].mean())\n",
    "\n",
    "fig, ax = plt.subplots(figsize = (8, 8))\n",
    "\n",
    "ax.hist(nonpoor_97_en.values, color=\"red\", bins=30, alpha = 0.4, label = 'Pre Treatment')\n",
    "ax.hist(nonpoor_98_en.values, color=\"green\", bins=30, alpha = 0.4, label = 'Post Treatment')\n",
    "\n",
    "# pre_mean = poor_treatment97_en['sc'].mean()\n",
    "pre_mean = nonpoor_97['sc'].mean()\n",
    "plt.axvline(pre_mean, color=\"red\", linewidth=2)\n",
    "\n",
    "post_mean = nonpoor_98['sc'].mean()\n",
    "plt.axvline(post_mean, color=\"green\", linewidth=2)\n",
    "\n",
    "plt.ylim(0, 80)\n",
    "plt.xlim(0.35, 1)\n",
    "plt.xlabel(\"Enrolment Rate\")\n",
    "\n",
    "plt.legend()\n",
    "plt.title(\"Village Enrollment Rates Among Non-Poor Households\\nIn Treatment Villages (Pre v/s Post)\")\n",
    "plt.show()"
   ]
  },
  {
   "cell_type": "code",
   "execution_count": 20,
   "metadata": {},
   "outputs": [
    {
     "name": "stdout",
     "output_type": "stream",
     "text": [
      "Difference: 0.013784584782011833\n",
      "p-value: 0.1737023474434498\n"
     ]
    }
   ],
   "source": [
    "t, p = stats.ttest_ind(nonpoor_97['sc'].dropna(), nonpoor_98['sc'].dropna())\n",
    "print('Difference:', (nonpoor_98['sc'].mean() - nonpoor_97['sc'].mean()))\n",
    "print('p-value:', p)"
   ]
  },
  {
   "cell_type": "markdown",
   "metadata": {},
   "source": [
    "On average among non-poor households (in treated villages), the difference in enrollment rates 1997 and 1998 is not statistically significant. "
   ]
  },
  {
   "cell_type": "markdown",
   "metadata": {},
   "source": [
    "## Part 2: Measuring Impact\n",
    "\n",
    "Our goal is to estimate the causal impact of the PROGRESA program on the social and economic outcomes of individuals in Mexico. We will focus on the impact of the program on school enrollment rates among the poor (those with poor=='pobre'), since only the poor were eligible to receive PROGRESA assistance, and since a primary objective of the program was to increase school enrollment.\n",
    "\n",
    "### 2.1 Simple differences: T-test\n",
    "\n",
    "Begin by estimating the impact of Progresa using \"simple differences.\" Restricting yourself to data from 1998 (after treatment), calculate the average enrollment rate among **poor** households in the Treatment villages and the average enrollment rate among **poor** households in the control villages. Use a t-test to determine if this difference is statistically significant. What do you conclude?"
   ]
  },
  {
   "cell_type": "code",
   "execution_count": 21,
   "metadata": {},
   "outputs": [
    {
     "name": "stdout",
     "output_type": "stream",
     "text": [
      "Control average (98): 0.807636956730308\n",
      "Treated average (98): 0.8464791213954308\n",
      "Difference: 0.0388421646651228\n",
      "P-value: 6.636344447523235e-17\n"
     ]
    }
   ],
   "source": [
    "df98 = progresa_df[progresa_df['year'] == 98]\n",
    "df97 = progresa_df[progresa_df['year'] == 97]\n",
    "\n",
    "treated98 = df98[(df98.progresa == 1) & (df98.poor == 1)]\n",
    "control98 = df98[(df98.progresa == 0) & (df98.poor == 1)]\n",
    "mean_t98 = treated98.sc.mean()\n",
    "mean_c98 = control98.sc.mean()\n",
    "\n",
    "print('Control average (98): {}'.format(mean_c98))\n",
    "print('Treated average (98): {}'.format(mean_t98))\n",
    "print('Difference: {}'.format(mean_t98-mean_c98))\n",
    "tstat, pval = stats.ttest_ind(treated98.sc.dropna(), control98.sc.dropna())\n",
    "print('P-value: {}'.format(pval))"
   ]
  },
  {
   "cell_type": "markdown",
   "metadata": {},
   "source": [
    "Enrollment rates among the poor in 1998 in the treated villages were nearly four percentage points higher than average enrollment rates in the control villages. These differences are statistically significant, so the \"simple differences\" method makes it look like Progresa  had an effect on enrollment. However, we are skeptical of these estimates, since we know that treatment villages were systematically different from control villages, even before the PROGRESA program arrived. In particular, poor households in the treated villages had higher rates of school enrollment in 1997, even before treatment had occured."
   ]
  },
  {
   "cell_type": "markdown",
   "metadata": {},
   "source": [
    "### 2.2 Simple differences: Regression\n",
    "\n",
    "Estimate the effects of Progresa on enrollment using a regression model, by regressing the 1998 enrollment rates **of the poor** on treatment assignment. For now, do not include any other variables in your regression. Discuss the following:\n",
    "\n",
    "* Based on this model, how much did Progresa increase or decrease the likelihood of a child enrolling? Make sure you express you answer in a sentence that a person with no technical background could understand, using appropriate units.\n",
    "* How does your regression estimate compare to your t-test estimate from part 2.1?\n",
    "* Based on this regression model, can we reject the null hypothesis that the treatment effects are zero? \n",
    "* What is the counterfactual assumption underlying this regression?"
   ]
  },
  {
   "cell_type": "code",
   "execution_count": 24,
   "metadata": {},
   "outputs": [
    {
     "name": "stdout",
     "output_type": "stream",
     "text": [
      "                            OLS Regression Results                            \n",
      "==============================================================================\n",
      "Dep. Variable:                     sc   R-squared:                       0.003\n",
      "Model:                            OLS   Adj. R-squared:                  0.003\n",
      "Method:                 Least Squares   F-statistic:                     69.87\n",
      "Date:                Wed, 12 Feb 2025   Prob (F-statistic):           6.64e-17\n",
      "Time:                        08:18:45   Log-Likelihood:                -11926.\n",
      "No. Observations:               27450   AIC:                         2.386e+04\n",
      "Df Residuals:                   27448   BIC:                         2.387e+04\n",
      "Df Model:                           1                                         \n",
      "Covariance Type:            nonrobust                                         \n",
      "==============================================================================\n",
      "                 coef    std err          t      P>|t|      [0.025      0.975]\n",
      "------------------------------------------------------------------------------\n",
      "Intercept      0.8076      0.004    220.676      0.000       0.800       0.815\n",
      "progresa       0.0388      0.005      8.359      0.000       0.030       0.048\n",
      "==============================================================================\n",
      "Omnibus:                     7638.939   Durbin-Watson:                   1.734\n",
      "Prob(Omnibus):                  0.000   Jarque-Bera (JB):            15767.534\n",
      "Skew:                          -1.767   Prob(JB):                         0.00\n",
      "Kurtosis:                       4.140   Cond. No.                         3.01\n",
      "==============================================================================\n",
      "\n",
      "Notes:\n",
      "[1] Standard Errors assume that the covariance matrix of the errors is correctly specified.\n"
     ]
    }
   ],
   "source": [
    "poor98 = df98[df98.poor == 1]\n",
    "ols1 = smf.ols(formula = \"sc ~ progresa\", data=poor98, missing='drop').fit()\n",
    "print(ols1.summary())"
   ]
  },
  {
   "cell_type": "markdown",
   "metadata": {},
   "source": [
    "* The regression indicates that progresa increased enrollment of the poor by 3.88 percentage points\n",
    "* Our estimate of the \"simple differences\" treatment effect of Progresa is identical to the estimate from 2.1\n",
    "* Based on this regression model, we can reject the null hypothesis that the poor households in treated and control villages had the same levels of school enrollment in 1998. The estimate of 3.88 percentage points is highly significant (p<0.01). Note that we can only interpret this as the causal effect of treatment if we believe the identifying assumption, stated below\n",
    "* The counterfactual assumption is that, in the absence of treatment, the average school enrollment in the treatment group and the average school enrollment in the control groups would have been the same."
   ]
  },
  {
   "cell_type": "markdown",
   "metadata": {},
   "source": [
    "### 2.3 Multiple Regression\n",
    "\n",
    "Re-run the above regression, but this time include a set of control variables. Include, for instance, age, distance to a secondary school, gender, education of household head, welfare index, indigenous, etc.\n",
    "\n",
    "* How do the controls affect the point estimate of treatment effect?\n",
    "* How do the controls affect the standard error on the treatment effect? \n",
    "* How do you interpret the differences (or similarities) between your estimates of 2.2 and 2.3?\n",
    "* Interpet the coefficient associated with the `dist_sec` variable. Is this evidence that the household's distance from a secondary school has a *causal* impact on educational attainment?"
   ]
  },
  {
   "cell_type": "code",
   "execution_count": 25,
   "metadata": {},
   "outputs": [
    {
     "name": "stdout",
     "output_type": "stream",
     "text": [
      "                            OLS Regression Results                            \n",
      "==============================================================================\n",
      "Dep. Variable:                     sc   R-squared:                       0.264\n",
      "Model:                            OLS   Adj. R-squared:                  0.264\n",
      "Method:                 Least Squares   F-statistic:                     1644.\n",
      "Date:                Wed, 12 Feb 2025   Prob (F-statistic):               0.00\n",
      "Time:                        08:18:51   Log-Likelihood:                -7742.1\n",
      "No. Observations:               27440   AIC:                         1.550e+04\n",
      "Df Residuals:                   27433   BIC:                         1.556e+04\n",
      "Df Model:                           6                                         \n",
      "Covariance Type:            nonrobust                                         \n",
      "=================================================================================\n",
      "                    coef    std err          t      P>|t|      [0.025      0.975]\n",
      "---------------------------------------------------------------------------------\n",
      "Intercept         1.5399      0.011    137.651      0.000       1.518       1.562\n",
      "C(sex)[T.1.0]     0.0311      0.004      8.013      0.000       0.023       0.039\n",
      "progresa          0.0352      0.004      8.821      0.000       0.027       0.043\n",
      "age              -0.0654      0.001    -95.546      0.000      -0.067      -0.064\n",
      "dist_sec         -0.0112      0.001    -12.892      0.000      -0.013      -0.010\n",
      "hohedu            0.0087      0.001     11.129      0.000       0.007       0.010\n",
      "fam_n            -0.0006      0.001     -0.654      0.513      -0.002       0.001\n",
      "==============================================================================\n",
      "Omnibus:                     3016.118   Durbin-Watson:                   1.710\n",
      "Prob(Omnibus):                  0.000   Jarque-Bera (JB):             4117.802\n",
      "Skew:                          -0.941   Prob(JB):                         0.00\n",
      "Kurtosis:                       3.243   Cond. No.                         82.8\n",
      "==============================================================================\n",
      "\n",
      "Notes:\n",
      "[1] Standard Errors assume that the covariance matrix of the errors is correctly specified.\n"
     ]
    }
   ],
   "source": [
    "formula2 = \"sc ~ progresa + age + dist_sec + C(sex) + hohedu + fam_n\"\n",
    "ols2 = smf.ols(formula2, data=poor98, missing='drop').fit()\n",
    "print(ols2.summary())"
   ]
  },
  {
   "cell_type": "markdown",
   "metadata": {},
   "source": [
    "* Including control variables decreases the estimated coefficient on the treatment effect\n",
    "* There is very little effect on the standard error\n",
    "* Controlling for other observable factors decreased the estimated treatment effect - or put differently, without controlling for other factors, the estimates of the treatment effectin 2.2 were likely *over*-estimates of the true treatment effect. This is likely due to the fact that other factors were correlated with both treatment and outcomes (as we saw in 1.2).\n",
    "* The -0.0112 coefficient associated with dist_sec indicates that with a unit increase in dist_sec the enrollment of poor on average decreases by 0.11%, holding all the other variables constant. This does not indicate a causal effect since dist_sec is the control variable which isn't randomly assigned and is only added to the regression to account for other systematic differences in the treatment and control groups."
   ]
  },
  {
   "cell_type": "markdown",
   "metadata": {},
   "source": [
    "### 2.4 Multiple Regression Revisited\n",
    "\n",
    "For the same set of control variables that you used in 2.3, carry out the following alternative estimation procedure. \n",
    "\n",
    "* First, regress the 1998 enrollment of the poor on the control variables, **without including the treatment assignment.** \n",
    "* Second, use this model to obtain predicted values of the 1998 enrollment for each child in the sample used to estimate the model in step 1. \n",
    "* Third, compute a new value for each child, which is the difference between the actual 1998 enrollment and the predicted enrollment value from step 2. \n",
    "* Finally, regress the difference from step 3 on treatment assignment.\n",
    "\n",
    "Compare the point estimate and the standard error on treatment assignment that you obtained in step 4 to their analogues in 2.3. Explain the results."
   ]
  },
  {
   "cell_type": "code",
   "execution_count": 26,
   "metadata": {},
   "outputs": [
    {
     "name": "stdout",
     "output_type": "stream",
     "text": [
      "                            OLS Regression Results                            \n",
      "==============================================================================\n",
      "Dep. Variable:                     sc   R-squared:                       0.262\n",
      "Model:                            OLS   Adj. R-squared:                  0.262\n",
      "Method:                 Least Squares   F-statistic:                     1951.\n",
      "Date:                Wed, 12 Feb 2025   Prob (F-statistic):               0.00\n",
      "Time:                        08:18:55   Log-Likelihood:                -7781.0\n",
      "No. Observations:               27440   AIC:                         1.557e+04\n",
      "Df Residuals:                   27434   BIC:                         1.562e+04\n",
      "Df Model:                           5                                         \n",
      "Covariance Type:            nonrobust                                         \n",
      "=================================================================================\n",
      "                    coef    std err          t      P>|t|      [0.025      0.975]\n",
      "---------------------------------------------------------------------------------\n",
      "Intercept         1.5621      0.011    143.108      0.000       1.541       1.584\n",
      "C(sex)[T.1.0]     0.0315      0.004      8.106      0.000       0.024       0.039\n",
      "age              -0.0654      0.001    -95.459      0.000      -0.067      -0.064\n",
      "dist_sec         -0.0113      0.001    -12.914      0.000      -0.013      -0.010\n",
      "hohedu            0.0088      0.001     11.204      0.000       0.007       0.010\n",
      "fam_n            -0.0006      0.001     -0.703      0.482      -0.002       0.001\n",
      "==============================================================================\n",
      "Omnibus:                     3041.611   Durbin-Watson:                   1.706\n",
      "Prob(Omnibus):                  0.000   Jarque-Bera (JB):             4162.743\n",
      "Skew:                          -0.946   Prob(JB):                         0.00\n",
      "Kurtosis:                       3.247   Cond. No.                         80.4\n",
      "==============================================================================\n",
      "\n",
      "Notes:\n",
      "[1] Standard Errors assume that the covariance matrix of the errors is correctly specified.\n",
      "                            OLS Regression Results                            \n",
      "==============================================================================\n",
      "Dep. Variable:                   diff   R-squared:                       0.003\n",
      "Model:                            OLS   Adj. R-squared:                  0.003\n",
      "Method:                 Least Squares   F-statistic:                     77.80\n",
      "Date:                Wed, 12 Feb 2025   Prob (F-statistic):           1.21e-18\n",
      "Time:                        08:18:55   Log-Likelihood:                -7742.1\n",
      "No. Observations:               27440   AIC:                         1.549e+04\n",
      "Df Residuals:                   27438   BIC:                         1.550e+04\n",
      "Df Model:                           1                                         \n",
      "Covariance Type:            nonrobust                                         \n",
      "==============================================================================\n",
      "                 coef    std err          t      P>|t|      [0.025      0.975]\n",
      "------------------------------------------------------------------------------\n",
      "Intercept     -0.0218      0.003     -6.947      0.000      -0.028      -0.016\n",
      "progresa       0.0352      0.004      8.821      0.000       0.027       0.043\n",
      "==============================================================================\n",
      "Omnibus:                     3010.045   Durbin-Watson:                   1.710\n",
      "Prob(Omnibus):                  0.000   Jarque-Bera (JB):             4107.155\n",
      "Skew:                          -0.940   Prob(JB):                         0.00\n",
      "Kurtosis:                       3.242   Cond. No.                         3.01\n",
      "==============================================================================\n",
      "\n",
      "Notes:\n",
      "[1] Standard Errors assume that the covariance matrix of the errors is correctly specified.\n"
     ]
    }
   ],
   "source": [
    "poor98_no_missing = poor98[[\"sc\",\"progresa\",\"age\",\"dist_sec\",\"sex\",\"hohedu\",\"fam_n\"]].dropna()\n",
    "\n",
    "formula2 = \"sc ~ age + dist_sec + C(sex) + hohedu + fam_n\"\n",
    "ols2 = smf.ols(formula2, data=poor98_no_missing).fit()\n",
    "print(ols2.summary())\n",
    "\n",
    "y_hat = ols2.predict(exog = poor98_no_missing[[\"age\",\"dist_sec\",\"sex\",\"hohedu\",\"fam_n\"]])\n",
    "\n",
    "poor98_no_missing['diff'] = poor98_no_missing['sc'].values - y_hat\n",
    "formula2 = \"diff ~ progresa\"\n",
    "ols2 = smf.ols(formula2, data=poor98_no_missing).fit()\n",
    "print(ols2.summary())"
   ]
  },
  {
   "cell_type": "markdown",
   "metadata": {},
   "source": [
    "The alternative estimation procedure yields very similar results as the multiple regression estimated in 2.3. We can think of multiple regression as providing an estimate of the linear relationssip between treatment assignment and the residual variance of the outcome that is not explained by the controls. "
   ]
  },
  {
   "cell_type": "markdown",
   "metadata": {},
   "source": [
    "### 2.5 Difference-in-Difference, version 1 (tabular)\n",
    "\n",
    "Thus far, we have computed the effects of Progresa by estimating the difference in 1998 enrollment rates across villages. An alternative approach would be to compute the treatment effect using a difference-in-differences framework.\n",
    "\n",
    "Begin by estimating the average treatment effects of the program for poor households using data from 1997 and 1998. Specifically, calculate the difference (between 1997 and 1998) in enrollment rates among poor households in treated villages; then compute the difference (between 1997 and 1998) in enrollment rates among poor households in control villages. \n",
    "\n",
    "Display your results in a 2x2 table where the rows are Control/Treatment and the columns are 1997/1998. \n",
    "\n",
    "* What is your difference-in-difference estimate of the impact, and how does it compare to your earlier (simple difference) results?\n",
    "* What is the counterfactual assumption underlying this estimate? \n"
   ]
  },
  {
   "cell_type": "code",
   "execution_count": 28,
   "metadata": {},
   "outputs": [
    {
     "name": "stdout",
     "output_type": "stream",
     "text": [
      "   year  progresa     sc\n",
      "0    97         0 0.8152\n",
      "1    97         1 0.8227\n",
      "2    98         0 0.8076\n",
      "3    98         1 0.8465 \n",
      "\n",
      "0.031331280319323085\n"
     ]
    }
   ],
   "source": [
    "poor_df = progresa_df[progresa_df['poor'] == 1]\n",
    "poor_df_mean_sc = poor_df.groupby(['year', 'progresa'])['sc'].mean().reset_index()\n",
    "print(poor_df_mean_sc,'\\n')\n",
    "dd_estimate = (poor_df_mean_sc.loc[3,'sc'] - poor_df_mean_sc.loc[2,'sc']) -\\\n",
    "              (poor_df_mean_sc.loc[1,'sc'] - poor_df_mean_sc.loc[0,'sc'])\n",
    "print(dd_estimate)"
   ]
  },
  {
   "cell_type": "code",
   "execution_count": 29,
   "metadata": {},
   "outputs": [
    {
     "data": {
      "text/html": [
       "<div>\n",
       "<style scoped>\n",
       "    .dataframe tbody tr th:only-of-type {\n",
       "        vertical-align: middle;\n",
       "    }\n",
       "\n",
       "    .dataframe tbody tr th {\n",
       "        vertical-align: top;\n",
       "    }\n",
       "\n",
       "    .dataframe thead th {\n",
       "        text-align: right;\n",
       "    }\n",
       "</style>\n",
       "<table border=\"1\" class=\"dataframe\">\n",
       "  <thead>\n",
       "    <tr style=\"text-align: right;\">\n",
       "      <th></th>\n",
       "      <th>1997</th>\n",
       "      <th>1998</th>\n",
       "    </tr>\n",
       "  </thead>\n",
       "  <tbody>\n",
       "    <tr>\n",
       "      <th>Control</th>\n",
       "      <td>0.8152</td>\n",
       "      <td>0.8076</td>\n",
       "    </tr>\n",
       "    <tr>\n",
       "      <th>Treatment</th>\n",
       "      <td>0.8227</td>\n",
       "      <td>0.8465</td>\n",
       "    </tr>\n",
       "  </tbody>\n",
       "</table>\n",
       "</div>"
      ],
      "text/plain": [
       "            1997   1998\n",
       "Control   0.8152 0.8076\n",
       "Treatment 0.8227 0.8465"
      ]
     },
     "execution_count": 29,
     "metadata": {},
     "output_type": "execute_result"
    }
   ],
   "source": [
    "temp_table = pd.DataFrame({'1997':[0.8152,0.8227], '1998':[0.8076,0.8465]}, index=['Control','Treatment'])\n",
    "#temp_table['Dff'] = temp_table['1998']-temp_table['1997']\n",
    "temp_table"
   ]
  },
  {
   "cell_type": "markdown",
   "metadata": {},
   "source": [
    "* Our double-different estimate is that PROGRESA increased enrolment by 3.13 percentage points. This estimate of the impact of PROGRESA is lower than the simple differences estimate from 2.2, and also lower than the simple difference estimate that controls for potentially confounding factors (2.3). Again, this all points to the fact that treated households were systematically different from control households, even in the absence of treatment. Most noticably, we previously estimated baseline differences in enrollment of 0.75%; of the various research designs we have tested, only the difference-in-difference estimator accounts for this.\n",
    "* The counterfactual assumption is that in the absence of treatment, the average difference in enrollment for poor households in the treatment group between 1997 and 1998 would be the same as the average difference in enrollment for poor households in the control group between 1997 and 1998.  Another way of saying this is that we are assuming that there exist parallel trends over time in enrollment rates between treated and control villages."
   ]
  },
  {
   "cell_type": "markdown",
   "metadata": {},
   "source": [
    "### 2.6 Difference-in-Difference, version 2 (regression)\n",
    "\n",
    "Now use a regression specification to estimate the average treatment effects of the program in a difference-in-differences, for the poor households. Do this (i) first without including any control variables; and then (ii) do it a second time including at least 5 control variables. \n",
    "\n",
    "* What is your estimate (i) of the impact of Progresa? Be very specific in interpreting your coefficients and standard errors, and make sure to specify exactly what units you are measuring and estimating.\n",
    "* Does your estimate of the impact of Progresa from (i) change when you add control variables as in (ii)? How do you explain these changes, or the lack of changes on the `progresa` coefficient between (i) and (ii)?\n",
    "* How do the estimates from (i) and (ii) compare to the difference-in-difference estimates from 2.4 above? What accounts for these differences, if any exist?\n",
    "* What is the counterfactual assumption underlying regression (ii)? "
   ]
  },
  {
   "cell_type": "code",
   "execution_count": 30,
   "metadata": {},
   "outputs": [
    {
     "name": "stdout",
     "output_type": "stream",
     "text": [
      "                            OLS Regression Results                            \n",
      "==============================================================================\n",
      "Dep. Variable:                     sc   R-squared:                       0.001\n",
      "Model:                            OLS   Adj. R-squared:                  0.001\n",
      "Method:                 Least Squares   F-statistic:                     28.31\n",
      "Date:                Wed, 12 Feb 2025   Prob (F-statistic):           2.76e-18\n",
      "Time:                        08:20:18   Log-Likelihood:                -26242.\n",
      "No. Observations:               58372   AIC:                         5.249e+04\n",
      "Df Residuals:                   58368   BIC:                         5.253e+04\n",
      "Df Model:                           3                                         \n",
      "Covariance Type:            nonrobust                                         \n",
      "=================================================================================\n",
      "                    coef    std err          t      P>|t|      [0.025      0.975]\n",
      "---------------------------------------------------------------------------------\n",
      "Intercept         0.8152      0.003    233.182      0.000       0.808       0.822\n",
      "progresa          0.0075      0.004      1.691      0.091      -0.001       0.016\n",
      "year             -0.0075      0.005     -1.480      0.139      -0.018       0.002\n",
      "progresa:year     0.0313      0.006      4.835      0.000       0.019       0.044\n",
      "==============================================================================\n",
      "Omnibus:                    15346.988   Durbin-Watson:                   1.397\n",
      "Prob(Omnibus):                  0.000   Jarque-Bera (JB):            30608.651\n",
      "Skew:                          -1.711   Prob(JB):                         0.00\n",
      "Kurtosis:                       3.937   Cond. No.                         7.67\n",
      "==============================================================================\n",
      "\n",
      "Notes:\n",
      "[1] Standard Errors assume that the covariance matrix of the errors is correctly specified.\n"
     ]
    }
   ],
   "source": [
    "poor_df = progresa_df[progresa_df.poor == 1].copy()\n",
    "poor_df.year = np.where(poor_df.year == 97,0,1)\n",
    "ols3 = smf.ols(formula='sc ~ progresa*year', data=poor_df, missing='drop').fit()\n",
    "# note that in the above command [progresa*year] is a shorthand for [progresa + year + progresa X year] \n",
    "print(ols3.summary())"
   ]
  },
  {
   "cell_type": "code",
   "execution_count": 31,
   "metadata": {},
   "outputs": [
    {
     "name": "stdout",
     "output_type": "stream",
     "text": [
      "                            OLS Regression Results                            \n",
      "==============================================================================\n",
      "Dep. Variable:                     sc   R-squared:                       0.279\n",
      "Model:                            OLS   Adj. R-squared:                  0.278\n",
      "Method:                 Least Squares   F-statistic:                     2496.\n",
      "Date:                Wed, 12 Feb 2025   Prob (F-statistic):               0.00\n",
      "Time:                        08:20:32   Log-Likelihood:                -16676.\n",
      "No. Observations:               58200   AIC:                         3.337e+04\n",
      "Df Residuals:                   58190   BIC:                         3.346e+04\n",
      "Df Model:                           9                                         \n",
      "Covariance Type:            nonrobust                                         \n",
      "=================================================================================\n",
      "                    coef    std err          t      P>|t|      [0.025      0.975]\n",
      "---------------------------------------------------------------------------------\n",
      "Intercept         1.3961      0.011    122.264      0.000       1.374       1.418\n",
      "C(sex)[T.1.0]     0.0335      0.003     12.533      0.000       0.028       0.039\n",
      "dist_cap          0.0004   1.72e-05     24.205      0.000       0.000       0.000\n",
      "age              -0.0655      0.000   -143.557      0.000      -0.066      -0.065\n",
      "fam_n          7.677e-05      0.001      0.129      0.897      -0.001       0.001\n",
      "hohedu            0.0072      0.001     13.403      0.000       0.006       0.008\n",
      "welfare_index  3.648e-05   1.21e-05      3.015      0.003    1.28e-05    6.02e-05\n",
      "progresa          0.0050      0.004      1.317      0.188      -0.002       0.012\n",
      "year              0.0274      0.004      6.298      0.000       0.019       0.036\n",
      "progresa:year     0.0310      0.006      5.618      0.000       0.020       0.042\n",
      "==============================================================================\n",
      "Omnibus:                     5571.981   Durbin-Watson:                   1.484\n",
      "Prob(Omnibus):                  0.000   Jarque-Bera (JB):             7347.456\n",
      "Skew:                          -0.868   Prob(JB):                         0.00\n",
      "Kurtosis:                       3.119   Cond. No.                     5.91e+03\n",
      "==============================================================================\n",
      "\n",
      "Notes:\n",
      "[1] Standard Errors assume that the covariance matrix of the errors is correctly specified.\n",
      "[2] The condition number is large, 5.91e+03. This might indicate that there are\n",
      "strong multicollinearity or other numerical problems.\n"
     ]
    }
   ],
   "source": [
    "poor_df = progresa_df[progresa_df.poor == 1].copy()\n",
    "poor_df.year = np.where(poor_df.year == 97,0,1)\n",
    "ols3 = smf.ols(formula='sc ~ dist_cap + age + C(sex) + fam_n + hohedu + welfare_index + progresa*year', data=poor_df, missing='drop').fit()\n",
    "# note that in the above command [progresa*year] is a shorthand for [progresa + year + progresa X year] \n",
    "print(ols3.summary())"
   ]
  },
  {
   "cell_type": "markdown",
   "metadata": {},
   "source": [
    "* Using a difference-in-difference regression in (i) without control variables, we estimate that the Progresa program increased enrollment of poor households by 3.13 percentage points (this is Progresa:year coefficient). The standard error is very low at 0.006 and the coefficient is highly statistically significant. Note that this is the same diff-in-diff estimate as we observed using cross-tabs earlier.\n",
    "* The coefficient changes from 0.0313 to 0.031. Relative to the standard error of 0.006, these are small and statistically insignificant differences. The stability of our estimate of program impacts in the two difference-in-difference specifications is reassuring, as it indicates that the addition of these control variables is not changing/attenuating the estimated treatment effects, as it was in the single-difference specification.\n",
    "* The estimated treatment effect from (i) is exactly the same as that estimated in 2.4. The treatment effect from (ii) changes a little, as we explained above, because of the fact that in this regression we are also controlling for other observed characteristics of the household (such as age, hohedu, etc.) which are also correlated with enrollment. \n",
    "* The counterfactual assumption is that, after accounting for the factors that we control for in the regression, in the absence of treatment, the difference in average enrollment in the treatment group between 1997 and 1998 would be the same as the average difference in enrollment in the control group.  Another way of saying this is that we are assuming that there exist parallel trends over time in enrollment rates between treated and control villages, conditional on the other variables in the regression"
   ]
  },
  {
   "cell_type": "markdown",
   "metadata": {},
   "source": [
    "### 2.7 Heterogeneous Treatment Effects\n",
    "\n",
    "Thus far, we have been calculating the average treatment effect -- implicitly assuming that the impacts of progresa are homogeneous (i.e similar for everyone in the treatment group).\n",
    "\n",
    "However, treatment effects might vary by demographics, socio-economic status, or other covariates. In this exercise, we'll think a little more carefully about such variation in treatment effects, the aim being to arrive at a more nuanced understanding of who benefits most from progresa. (More formally, we are now thinking of *conditional* average treatment effects -- a concept that you will revisit towards the end of the semester).\n",
    "\n",
    "Repeat your analysis in 2.5 / 2.6, instead focusing on whether the impacts of Progresa on school enrolment differ by gender.\n",
    "\n",
    "1. Begin by estimating the average treatment effects of the program for male children in poor households using data from 1997 and 1998. Specifically, calculate the difference (between 1997 and 1998) in enrollment rates among male children in poor households in treated villages; then compute the difference (between 1997 and 1998) in enrollment rates among male children in poor households in control villages.\n",
    "    - Report your results in a 2 X 2 table where the rows are Control / Treatment, and the columns are 1997 / 1998.\n",
    "    - Report your estimate of the causal impact of progresa on school enrolment for male children.\n",
    "\n",
    "2. Repeat the process for female children in poor households using data from 1997 and 1998.\n",
    "    - Report the results in a 2 X 2 table where the rows are Control / Treatment, and the columns are 1997 / 1998.\n",
    "    - Report your estimate of the causal impact of progresa on school enrolment for male children.\n",
    "\n",
    "3. Do the effects of Progresa differ by gender?\n",
    "    - Begin by examining manually examining the differences in the causal impact of progresa on school enrolment for male and female children (from Steps 1 and 2 above ).  \n",
    "    - Then, extend the double difference regression you ran in 2.6 (without including any control variables) to directly estimate the differential impact. (Hint: the double difference / diff-in-diff regression you have seen in class and lab sessions allow you to compare two groups (treated and control) across two time periods (pre and post). Now, within this setup, you have an additional comparison to make – between male and female children. What terms do you need to add to the regression in 2.6 in order to allow for this third axis of comparison?)\n",
    "    - Report your findings – do the effects of Progresa differ by gender? \n",
    "\n"
   ]
  },
  {
   "cell_type": "code",
   "execution_count": 51,
   "metadata": {},
   "outputs": [
    {
     "data": {
      "text/html": [
       "<div>\n",
       "<style scoped>\n",
       "    .dataframe tbody tr th:only-of-type {\n",
       "        vertical-align: middle;\n",
       "    }\n",
       "\n",
       "    .dataframe tbody tr th {\n",
       "        vertical-align: top;\n",
       "    }\n",
       "\n",
       "    .dataframe thead tr th {\n",
       "        text-align: left;\n",
       "    }\n",
       "\n",
       "    .dataframe thead tr:last-of-type th {\n",
       "        text-align: right;\n",
       "    }\n",
       "</style>\n",
       "<table border=\"1\" class=\"dataframe\">\n",
       "  <thead>\n",
       "    <tr>\n",
       "      <th></th>\n",
       "      <th colspan=\"2\" halign=\"left\">sc</th>\n",
       "    </tr>\n",
       "    <tr>\n",
       "      <th>year</th>\n",
       "      <th>0</th>\n",
       "      <th>1</th>\n",
       "    </tr>\n",
       "    <tr>\n",
       "      <th>progresa</th>\n",
       "      <th></th>\n",
       "      <th></th>\n",
       "    </tr>\n",
       "  </thead>\n",
       "  <tbody>\n",
       "    <tr>\n",
       "      <th>0</th>\n",
       "      <td>0.8320</td>\n",
       "      <td>0.8218</td>\n",
       "    </tr>\n",
       "    <tr>\n",
       "      <th>1</th>\n",
       "      <td>0.8370</td>\n",
       "      <td>0.8571</td>\n",
       "    </tr>\n",
       "  </tbody>\n",
       "</table>\n",
       "</div>"
      ],
      "text/plain": [
       "             sc       \n",
       "year          0      1\n",
       "progresa              \n",
       "0        0.8320 0.8218\n",
       "1        0.8370 0.8571"
      ]
     },
     "metadata": {},
     "output_type": "display_data"
    },
    {
     "name": "stdout",
     "output_type": "stream",
     "text": [
      "Causal impact of Progresa on Male Children: 0.030299999999999994\n"
     ]
    }
   ],
   "source": [
    "#1. \n",
    "\n",
    "mtable = poor_df[poor_df.sex == 1].groupby(['progresa', 'year']).sc.mean().reset_index()\n",
    "display(mtable.pivot(index = 'progresa', columns = 'year'))\n",
    "mimpact = (0.8571 - 0.8370) - (0.8218 - 0.8320)\n",
    "print(\"Causal impact of Progresa on Male Children:\", mimpact)"
   ]
  },
  {
   "cell_type": "code",
   "execution_count": 52,
   "metadata": {},
   "outputs": [
    {
     "data": {
      "text/html": [
       "<div>\n",
       "<style scoped>\n",
       "    .dataframe tbody tr th:only-of-type {\n",
       "        vertical-align: middle;\n",
       "    }\n",
       "\n",
       "    .dataframe tbody tr th {\n",
       "        vertical-align: top;\n",
       "    }\n",
       "\n",
       "    .dataframe thead tr th {\n",
       "        text-align: left;\n",
       "    }\n",
       "\n",
       "    .dataframe thead tr:last-of-type th {\n",
       "        text-align: right;\n",
       "    }\n",
       "</style>\n",
       "<table border=\"1\" class=\"dataframe\">\n",
       "  <thead>\n",
       "    <tr>\n",
       "      <th></th>\n",
       "      <th colspan=\"2\" halign=\"left\">sc</th>\n",
       "    </tr>\n",
       "    <tr>\n",
       "      <th>year</th>\n",
       "      <th>0</th>\n",
       "      <th>1</th>\n",
       "    </tr>\n",
       "    <tr>\n",
       "      <th>progresa</th>\n",
       "      <th></th>\n",
       "      <th></th>\n",
       "    </tr>\n",
       "  </thead>\n",
       "  <tbody>\n",
       "    <tr>\n",
       "      <th>0</th>\n",
       "      <td>0.7982</td>\n",
       "      <td>0.7930</td>\n",
       "    </tr>\n",
       "    <tr>\n",
       "      <th>1</th>\n",
       "      <td>0.8071</td>\n",
       "      <td>0.8350</td>\n",
       "    </tr>\n",
       "  </tbody>\n",
       "</table>\n",
       "</div>"
      ],
      "text/plain": [
       "             sc       \n",
       "year          0      1\n",
       "progresa              \n",
       "0        0.7982 0.7930\n",
       "1        0.8071 0.8350"
      ]
     },
     "metadata": {},
     "output_type": "display_data"
    },
    {
     "name": "stdout",
     "output_type": "stream",
     "text": [
      "Causal impact of Progresa on Female Children: 0.03309999999999991\n"
     ]
    }
   ],
   "source": [
    "#2. \n",
    "\n",
    "ftable = poor_df[poor_df.sex == 0].groupby(['progresa', 'year']).sc.mean().reset_index()\n",
    "display(ftable.pivot(index = 'progresa', columns = 'year'))\n",
    "fimpact = (0.8350 - 0.8071) - (0.7930 - 0.7982)\n",
    "print(\"Causal impact of Progresa on Female Children:\", fimpact)"
   ]
  },
  {
   "cell_type": "code",
   "execution_count": 53,
   "metadata": {},
   "outputs": [
    {
     "data": {
      "text/plain": [
       "-0.0027999999999999137"
      ]
     },
     "execution_count": 53,
     "metadata": {},
     "output_type": "execute_result"
    }
   ],
   "source": [
    "# 3. Differential impacts by gender:\n",
    "mimpact - fimpact"
   ]
  },
  {
   "cell_type": "code",
   "execution_count": 54,
   "metadata": {},
   "outputs": [
    {
     "data": {
      "text/html": [
       "<table class=\"simpletable\">\n",
       "<caption>OLS Regression Results</caption>\n",
       "<tr>\n",
       "  <th>Dep. Variable:</th>           <td>sc</td>        <th>  R-squared:         </th> <td>   0.003</td> \n",
       "</tr>\n",
       "<tr>\n",
       "  <th>Model:</th>                   <td>OLS</td>       <th>  Adj. R-squared:    </th> <td>   0.003</td> \n",
       "</tr>\n",
       "<tr>\n",
       "  <th>Method:</th>             <td>Least Squares</td>  <th>  F-statistic:       </th> <td>   23.91</td> \n",
       "</tr>\n",
       "<tr>\n",
       "  <th>Date:</th>             <td>Wed, 12 Feb 2025</td> <th>  Prob (F-statistic):</th> <td>1.01e-32</td> \n",
       "</tr>\n",
       "<tr>\n",
       "  <th>Time:</th>                 <td>08:28:02</td>     <th>  Log-Likelihood:    </th> <td> -26189.</td> \n",
       "</tr>\n",
       "<tr>\n",
       "  <th>No. Observations:</th>      <td> 58352</td>      <th>  AIC:               </th> <td>5.239e+04</td>\n",
       "</tr>\n",
       "<tr>\n",
       "  <th>Df Residuals:</th>          <td> 58344</td>      <th>  BIC:               </th> <td>5.247e+04</td>\n",
       "</tr>\n",
       "<tr>\n",
       "  <th>Df Model:</th>              <td>     7</td>      <th>                     </th>     <td> </td>    \n",
       "</tr>\n",
       "<tr>\n",
       "  <th>Covariance Type:</th>      <td>nonrobust</td>    <th>                     </th>     <td> </td>    \n",
       "</tr>\n",
       "</table>\n",
       "<table class=\"simpletable\">\n",
       "<tr>\n",
       "               <td></td>                  <th>coef</th>     <th>std err</th>      <th>t</th>      <th>P>|t|</th>  <th>[0.025</th>    <th>0.975]</th>  \n",
       "</tr>\n",
       "<tr>\n",
       "  <th>Intercept</th>                   <td>    0.7982</td> <td>    0.005</td> <td>  160.550</td> <td> 0.000</td> <td>    0.788</td> <td>    0.808</td>\n",
       "</tr>\n",
       "<tr>\n",
       "  <th>C(sex)[T.1.0]</th>               <td>    0.0338</td> <td>    0.007</td> <td>    4.830</td> <td> 0.000</td> <td>    0.020</td> <td>    0.047</td>\n",
       "</tr>\n",
       "<tr>\n",
       "  <th>progresa</th>                    <td>    0.0089</td> <td>    0.006</td> <td>    1.406</td> <td> 0.160</td> <td>   -0.004</td> <td>    0.021</td>\n",
       "</tr>\n",
       "<tr>\n",
       "  <th>progresa:C(sex)[T.1.0]</th>      <td>   -0.0039</td> <td>    0.009</td> <td>   -0.437</td> <td> 0.662</td> <td>   -0.021</td> <td>    0.014</td>\n",
       "</tr>\n",
       "<tr>\n",
       "  <th>year</th>                        <td>   -0.0052</td> <td>    0.007</td> <td>   -0.715</td> <td> 0.474</td> <td>   -0.019</td> <td>    0.009</td>\n",
       "</tr>\n",
       "<tr>\n",
       "  <th>year:C(sex)[T.1.0]</th>          <td>   -0.0049</td> <td>    0.010</td> <td>   -0.483</td> <td> 0.629</td> <td>   -0.025</td> <td>    0.015</td>\n",
       "</tr>\n",
       "<tr>\n",
       "  <th>progresa:year</th>               <td>    0.0330</td> <td>    0.009</td> <td>    3.560</td> <td> 0.000</td> <td>    0.015</td> <td>    0.051</td>\n",
       "</tr>\n",
       "<tr>\n",
       "  <th>progresa:year:C(sex)[T.1.0]</th> <td>   -0.0028</td> <td>    0.013</td> <td>   -0.216</td> <td> 0.829</td> <td>   -0.028</td> <td>    0.023</td>\n",
       "</tr>\n",
       "</table>\n",
       "<table class=\"simpletable\">\n",
       "<tr>\n",
       "  <th>Omnibus:</th>       <td>15305.553</td> <th>  Durbin-Watson:     </th> <td>   1.397</td> \n",
       "</tr>\n",
       "<tr>\n",
       "  <th>Prob(Omnibus):</th>  <td> 0.000</td>   <th>  Jarque-Bera (JB):  </th> <td>30480.686</td>\n",
       "</tr>\n",
       "<tr>\n",
       "  <th>Skew:</th>           <td>-1.707</td>   <th>  Prob(JB):          </th> <td>    0.00</td> \n",
       "</tr>\n",
       "<tr>\n",
       "  <th>Kurtosis:</th>       <td> 3.935</td>   <th>  Cond. No.          </th> <td>    20.3</td> \n",
       "</tr>\n",
       "</table><br/><br/>Notes:<br/>[1] Standard Errors assume that the covariance matrix of the errors is correctly specified."
      ],
      "text/latex": [
       "\\begin{center}\n",
       "\\begin{tabular}{lclc}\n",
       "\\toprule\n",
       "\\textbf{Dep. Variable:}              &        sc        & \\textbf{  R-squared:         } &     0.003   \\\\\n",
       "\\textbf{Model:}                      &       OLS        & \\textbf{  Adj. R-squared:    } &     0.003   \\\\\n",
       "\\textbf{Method:}                     &  Least Squares   & \\textbf{  F-statistic:       } &     23.91   \\\\\n",
       "\\textbf{Date:}                       & Wed, 12 Feb 2025 & \\textbf{  Prob (F-statistic):} &  1.01e-32   \\\\\n",
       "\\textbf{Time:}                       &     08:28:02     & \\textbf{  Log-Likelihood:    } &   -26189.   \\\\\n",
       "\\textbf{No. Observations:}           &       58352      & \\textbf{  AIC:               } & 5.239e+04   \\\\\n",
       "\\textbf{Df Residuals:}               &       58344      & \\textbf{  BIC:               } & 5.247e+04   \\\\\n",
       "\\textbf{Df Model:}                   &           7      & \\textbf{                     } &             \\\\\n",
       "\\textbf{Covariance Type:}            &    nonrobust     & \\textbf{                     } &             \\\\\n",
       "\\bottomrule\n",
       "\\end{tabular}\n",
       "\\begin{tabular}{lcccccc}\n",
       "                                     & \\textbf{coef} & \\textbf{std err} & \\textbf{t} & \\textbf{P$> |$t$|$} & \\textbf{[0.025} & \\textbf{0.975]}  \\\\\n",
       "\\midrule\n",
       "\\textbf{Intercept}                   &       0.7982  &        0.005     &   160.550  &         0.000        &        0.788    &        0.808     \\\\\n",
       "\\textbf{C(sex)[T.1.0]}               &       0.0338  &        0.007     &     4.830  &         0.000        &        0.020    &        0.047     \\\\\n",
       "\\textbf{progresa}                    &       0.0089  &        0.006     &     1.406  &         0.160        &       -0.004    &        0.021     \\\\\n",
       "\\textbf{progresa:C(sex)[T.1.0]}      &      -0.0039  &        0.009     &    -0.437  &         0.662        &       -0.021    &        0.014     \\\\\n",
       "\\textbf{year}                        &      -0.0052  &        0.007     &    -0.715  &         0.474        &       -0.019    &        0.009     \\\\\n",
       "\\textbf{year:C(sex)[T.1.0]}          &      -0.0049  &        0.010     &    -0.483  &         0.629        &       -0.025    &        0.015     \\\\\n",
       "\\textbf{progresa:year}               &       0.0330  &        0.009     &     3.560  &         0.000        &        0.015    &        0.051     \\\\\n",
       "\\textbf{progresa:year:C(sex)[T.1.0]} &      -0.0028  &        0.013     &    -0.216  &         0.829        &       -0.028    &        0.023     \\\\\n",
       "\\bottomrule\n",
       "\\end{tabular}\n",
       "\\begin{tabular}{lclc}\n",
       "\\textbf{Omnibus:}       & 15305.553 & \\textbf{  Durbin-Watson:     } &     1.397  \\\\\n",
       "\\textbf{Prob(Omnibus):} &    0.000  & \\textbf{  Jarque-Bera (JB):  } & 30480.686  \\\\\n",
       "\\textbf{Skew:}          &   -1.707  & \\textbf{  Prob(JB):          } &      0.00  \\\\\n",
       "\\textbf{Kurtosis:}      &    3.935  & \\textbf{  Cond. No.          } &      20.3  \\\\\n",
       "\\bottomrule\n",
       "\\end{tabular}\n",
       "%\\caption{OLS Regression Results}\n",
       "\\end{center}\n",
       "\n",
       "Notes: \\newline\n",
       " [1] Standard Errors assume that the covariance matrix of the errors is correctly specified."
      ],
      "text/plain": [
       "<class 'statsmodels.iolib.summary.Summary'>\n",
       "\"\"\"\n",
       "                            OLS Regression Results                            \n",
       "==============================================================================\n",
       "Dep. Variable:                     sc   R-squared:                       0.003\n",
       "Model:                            OLS   Adj. R-squared:                  0.003\n",
       "Method:                 Least Squares   F-statistic:                     23.91\n",
       "Date:                Wed, 12 Feb 2025   Prob (F-statistic):           1.01e-32\n",
       "Time:                        08:28:02   Log-Likelihood:                -26189.\n",
       "No. Observations:               58352   AIC:                         5.239e+04\n",
       "Df Residuals:                   58344   BIC:                         5.247e+04\n",
       "Df Model:                           7                                         \n",
       "Covariance Type:            nonrobust                                         \n",
       "===============================================================================================\n",
       "                                  coef    std err          t      P>|t|      [0.025      0.975]\n",
       "-----------------------------------------------------------------------------------------------\n",
       "Intercept                       0.7982      0.005    160.550      0.000       0.788       0.808\n",
       "C(sex)[T.1.0]                   0.0338      0.007      4.830      0.000       0.020       0.047\n",
       "progresa                        0.0089      0.006      1.406      0.160      -0.004       0.021\n",
       "progresa:C(sex)[T.1.0]         -0.0039      0.009     -0.437      0.662      -0.021       0.014\n",
       "year                           -0.0052      0.007     -0.715      0.474      -0.019       0.009\n",
       "year:C(sex)[T.1.0]             -0.0049      0.010     -0.483      0.629      -0.025       0.015\n",
       "progresa:year                   0.0330      0.009      3.560      0.000       0.015       0.051\n",
       "progresa:year:C(sex)[T.1.0]    -0.0028      0.013     -0.216      0.829      -0.028       0.023\n",
       "==============================================================================\n",
       "Omnibus:                    15305.553   Durbin-Watson:                   1.397\n",
       "Prob(Omnibus):                  0.000   Jarque-Bera (JB):            30480.686\n",
       "Skew:                          -1.707   Prob(JB):                         0.00\n",
       "Kurtosis:                       3.935   Cond. No.                         20.3\n",
       "==============================================================================\n",
       "\n",
       "Notes:\n",
       "[1] Standard Errors assume that the covariance matrix of the errors is correctly specified.\n",
       "\"\"\""
      ]
     },
     "execution_count": 54,
     "metadata": {},
     "output_type": "execute_result"
    }
   ],
   "source": [
    "# Regression version\n",
    "poor_df = progresa_df[progresa_df.poor == 1].copy()\n",
    "poor_df.year = np.where(poor_df.year == 97,0,1)\n",
    "ols3_het = smf.ols(formula='sc ~ progresa*year*C(sex)', data=poor_df, missing='drop').fit() ## note the additional interaction\n",
    "\n",
    "ols3_het.summary()"
   ]
  },
  {
   "cell_type": "markdown",
   "metadata": {},
   "source": [
    "\n",
    "\n",
    "In order to see examine the differential effects of Progresa by gender, we extend our diff-in-diff regression by adding an interaction with the gender dummy. This is now a triple difference in difference specification. \n",
    "\n",
    "In the regression we run above:\n",
    " - the coefficient progresa X year X C(sex)[T.1.0] tells us the differential impact of progresa by gender. \n",
    " - while the magnitude of this coefficient matches the results from our manual calculations, the coefficent is not statistically significant.\n",
    "\n",
    "Based on our analysis, we conclude the effects of Progresa do not differ by gender. "
   ]
  },
  {
   "cell_type": "markdown",
   "metadata": {},
   "source": [
    "### 2.8 Summary\n",
    "\n",
    "* Based on all the analysis you have undertaken to date, do you believe that Progresa had a causal impact on the enrollment rates of poor households in Mexico? "
   ]
  },
  {
   "cell_type": "markdown",
   "metadata": {},
   "source": [
    "Using several different empirical frameworks, we have explored the impact of the PROGRESA program on enrollment rates of poor households in Mexico. In general, it appears that PROGRESA did have positive impact on the school enrollment rates, though the exact estimate depends on the method used to measure impact. After controlling for other observable characteristics, the most reliable difference-in-difference estimator estimates that PROGRESA raised enrollment rates by roughly 3.13 percentage points. A separate estimator, that includes externalities on non-poor households, produces a more conservative, and statistically insignificant, estimate."
   ]
  },
  {
   "cell_type": "markdown",
   "metadata": {},
   "source": [
    "### 2.9 Spillover effects [EXTRA CREDIT]\n",
    "\n",
    "Thus far, we have focused on the impact of PROGRESA on the school enrollment of poor households. Repeat your analysis in 2.5, instead focusing on (a) the impact of PROGRESA on the school enrollment of non-poor households, and (b) the impact ofo PROGRESA on *other outcomes* of poor households that might plausibly have been affected by the PROGRESA program.\n",
    "* Do you observe any impacts of PROGRESA on the school enrollment of the non-poor?\n",
    "* Regardless of whether you find evidence of spillovers to non-poor, describe one or two reasons why PROGRESA *might* have impacted non-poor households. Give concrete examples based on the context in which PROGRESA was implemented.\n",
    "* Do you observe any impacts of PROGRESA on other aspects of the welfare of poor households? "
   ]
  },
  {
   "cell_type": "code",
   "execution_count": 33,
   "metadata": {
    "lines_to_next_cell": 2
   },
   "outputs": [
    {
     "name": "stdout",
     "output_type": "stream",
     "text": [
      "                            OLS Regression Results                            \n",
      "==============================================================================\n",
      "Dep. Variable:                     sc   R-squared:                       0.002\n",
      "Model:                            OLS   Adj. R-squared:                  0.002\n",
      "Method:                 Least Squares   F-statistic:                     6.332\n",
      "Date:                Fri, 07 Feb 2025   Prob (F-statistic):           0.000276\n",
      "Time:                        22:05:11   Log-Likelihood:                -5448.5\n",
      "No. Observations:               10425   AIC:                         1.090e+04\n",
      "Df Residuals:                   10421   BIC:                         1.093e+04\n",
      "Df Model:                           3                                         \n",
      "Covariance Type:            nonrobust                                         \n",
      "=================================================================================\n",
      "                    coef    std err          t      P>|t|      [0.025      0.975]\n",
      "---------------------------------------------------------------------------------\n",
      "Intercept         0.7626      0.009     89.682      0.000       0.746       0.779\n",
      "progresa          0.0327      0.011      2.978      0.003       0.011       0.054\n",
      "year              0.0138      0.013      1.079      0.280      -0.011       0.039\n",
      "progresa:year  3.428e-05      0.016      0.002      0.998      -0.032       0.032\n",
      "==============================================================================\n",
      "Omnibus:                     2002.335   Durbin-Watson:                   1.443\n",
      "Prob(Omnibus):                  0.000   Jarque-Bera (JB):             3446.137\n",
      "Skew:                          -1.408   Prob(JB):                         0.00\n",
      "Kurtosis:                       2.994   Cond. No.                         7.36\n",
      "==============================================================================\n",
      "\n",
      "Notes:\n",
      "[1] Standard Errors assume that the covariance matrix of the errors is correctly specified.\n",
      "                            OLS Regression Results                            \n",
      "==============================================================================\n",
      "Dep. Variable:                     sc   R-squared:                       0.278\n",
      "Model:                            OLS   Adj. R-squared:                  0.277\n",
      "Method:                 Least Squares   F-statistic:                     572.5\n",
      "Date:                Fri, 07 Feb 2025   Prob (F-statistic):               0.00\n",
      "Time:                        22:05:12   Log-Likelihood:                -3761.2\n",
      "No. Observations:               10423   AIC:                             7538.\n",
      "Df Residuals:                   10415   BIC:                             7596.\n",
      "Df Model:                           7                                         \n",
      "Covariance Type:            nonrobust                                         \n",
      "=================================================================================\n",
      "                    coef    std err          t      P>|t|      [0.025      0.975]\n",
      "---------------------------------------------------------------------------------\n",
      "Intercept         1.5500      0.020     79.240      0.000       1.512       1.588\n",
      "C(sex)[T.1.0]     0.0292      0.007      4.295      0.000       0.016       0.043\n",
      "age              -0.0683      0.001    -60.008      0.000      -0.071      -0.066\n",
      "fam_n            -0.0059      0.001     -4.083      0.000      -0.009      -0.003\n",
      "hohedu            0.0103      0.001      9.576      0.000       0.008       0.012\n",
      "progresa          0.0292      0.009      3.129      0.002       0.011       0.048\n",
      "year              0.0374      0.011      3.450      0.001       0.016       0.059\n",
      "progresa:year    -0.0004      0.014     -0.026      0.979      -0.028       0.027\n",
      "==============================================================================\n",
      "Omnibus:                      877.870   Durbin-Watson:                   1.478\n",
      "Prob(Omnibus):                  0.000   Jarque-Bera (JB):              851.992\n",
      "Skew:                          -0.642   Prob(JB):                    9.82e-186\n",
      "Kurtosis:                       2.441   Cond. No.                         89.4\n",
      "==============================================================================\n",
      "\n",
      "Notes:\n",
      "[1] Standard Errors assume that the covariance matrix of the errors is correctly specified.\n",
      "                            OLS Regression Results                            \n",
      "==============================================================================\n",
      "Dep. Variable:                 hohedu   R-squared:                       0.000\n",
      "Model:                            OLS   Adj. R-squared:                  0.000\n",
      "Method:                 Least Squares   F-statistic:                     4.305\n",
      "Date:                Fri, 07 Feb 2025   Prob (F-statistic):            0.00483\n",
      "Time:                        22:05:12   Log-Likelihood:            -1.5312e+05\n",
      "No. Observations:               65392   AIC:                         3.062e+05\n",
      "Df Residuals:                   65388   BIC:                         3.063e+05\n",
      "Df Model:                           3                                         \n",
      "Covariance Type:            nonrobust                                         \n",
      "=================================================================================\n",
      "                    coef    std err          t      P>|t|      [0.025      0.975]\n",
      "---------------------------------------------------------------------------------\n",
      "Intercept         2.5903      0.023    114.989      0.000       2.546       2.635\n",
      "progresa          0.0728      0.029      2.541      0.011       0.017       0.129\n",
      "year          -8.825e-14      0.032  -2.77e-12      1.000      -0.062       0.062\n",
      "progresa:year   8.19e-15      0.041   2.02e-13      1.000      -0.079       0.079\n",
      "==============================================================================\n",
      "Omnibus:                    10705.246   Durbin-Watson:                   0.361\n",
      "Prob(Omnibus):                  0.000   Jarque-Bera (JB):            19159.114\n",
      "Skew:                           1.053   Prob(JB):                         0.00\n",
      "Kurtosis:                       4.612   Cond. No.                         7.85\n",
      "==============================================================================\n",
      "\n",
      "Notes:\n",
      "[1] Standard Errors assume that the covariance matrix of the errors is correctly specified.\n"
     ]
    }
   ],
   "source": [
    "nonpoor_df = progresa_df[progresa_df.poor == 0].copy()\n",
    "nonpoor_df.year = np.where(nonpoor_df.year == 97, 0, 1)\n",
    "ols4 = smf.ols(formula='sc ~ progresa*year',data=nonpoor_df).fit()\n",
    "print(ols4.summary())\n",
    "ols5 = smf.ols(formula='sc ~ age + C(sex) + fam_n + hohedu + progresa*year',data=nonpoor_df).fit()\n",
    "print(ols5.summary())\n",
    "ols6 = smf.ols(formula='hohedu ~ progresa*year',data = poor_df).fit()\n",
    "print(ols6.summary())"
   ]
  },
  {
   "cell_type": "markdown",
   "metadata": {},
   "source": [
    "* Using this simple difference-in-difference strategy, we do not observe any statistically different impacts of PROGRESA on the non-poor.\n",
    "* PROGRESA could have benefited non-poor households for several reasons. For instance, if the PROGRESA program improved overall school quality (for all students) in treated villages, this would benefit poor and non-poor alike. Alternatively, if non-poor households were somehow able to cheat the assignment rule and receive the subsidy, they would benefit from imperfect treatment compliance.\n",
    "* Can consider any of the columns from monthly wages of family head, number of years in school etc , I have considered years of schooling. PROGRESA doesnt have impact"
   ]
  },
  {
   "cell_type": "code",
   "execution_count": 37,
   "metadata": {},
   "outputs": [
    {
     "data": {
      "text/plain": [
       "array([ 1.,  0., nan])"
      ]
     },
     "execution_count": 37,
     "metadata": {},
     "output_type": "execute_result"
    }
   ],
   "source": [
    "poor_df['sc'].unique()"
   ]
  },
  {
   "cell_type": "code",
   "execution_count": 64,
   "metadata": {},
   "outputs": [
    {
     "name": "stdout",
     "output_type": "stream",
     "text": [
      "{'jupytext': {'formats': 'ipynb,py:light'}, 'kernelspec': {'display_name': 'Python 3 (ipykernel)', 'language': 'python', 'name': 'python3'}, 'language_info': {'codemirror_mode': {'name': 'ipython', 'version': 3}, 'file_extension': '.py', 'mimetype': 'text/x-python', 'name': 'python', 'nbconvert_exporter': 'python', 'pygments_lexer': 'ipython3', 'version': '3.11.11'}}\n"
     ]
    }
   ],
   "source": [
    "import json\n",
    "\n",
    "with open('C:/Users/suraj/Downloads/Yan_Yufeng-PS1.ipynb', 'r') as f:\n",
    "    notebook = json.load(f)\n",
    "    \n",
    "# Check metadata if it exists\n",
    "if 'metadata' in notebook:\n",
    "    print(notebook['metadata'])"
   ]
  },
  {
   "cell_type": "code",
   "execution_count": 65,
   "metadata": {},
   "outputs": [
    {
     "name": "stdout",
     "output_type": "stream",
     "text": [
      "File creation date: 2025-02-10 16:13:31.408048\n"
     ]
    }
   ],
   "source": [
    "import os\n",
    "from datetime import datetime\n",
    "\n",
    "# Get file creation time (Windows) or metadata change time (Unix)\n",
    "creation_time = os.path.getctime('C:/Users/suraj/Downloads/Yan_Yufeng-PS1.ipynb')\n",
    "\n",
    "# Convert timestamp to readable date\n",
    "creation_date = datetime.fromtimestamp(creation_time)\n",
    "print(f\"File creation date: {creation_date}\")"
   ]
  }
 ],
 "metadata": {
  "anaconda-cloud": {},
  "jupytext": {
   "formats": "ipynb,py:light"
  },
  "kernelspec": {
   "display_name": "Python 3 (ipykernel)",
   "language": "python",
   "name": "python3"
  },
  "language_info": {
   "codemirror_mode": {
    "name": "ipython",
    "version": 3
   },
   "file_extension": ".py",
   "mimetype": "text/x-python",
   "name": "python",
   "nbconvert_exporter": "python",
   "pygments_lexer": "ipython3",
   "version": "3.10.12"
  }
 },
 "nbformat": 4,
 "nbformat_minor": 4
}
