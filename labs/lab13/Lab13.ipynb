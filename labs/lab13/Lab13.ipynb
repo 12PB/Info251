{
  "nbformat": 4,
  "nbformat_minor": 0,
  "metadata": {
    "colab": {
      "provenance": []
    },
    "kernelspec": {
      "name": "python3",
      "display_name": "Python 3"
    },
    "language_info": {
      "name": "python"
    }
  },
  "cells": [
    {
      "cell_type": "code",
      "execution_count": null,
      "metadata": {
        "id": "YxyClTEj1IAk"
      },
      "outputs": [],
      "source": [
        "import numpy as np\n",
        "import pandas as pd\n",
        "\n",
        "import plotly.express as px"
      ]
    },
    {
      "cell_type": "markdown",
      "source": [
        "# PCA, step by step\n",
        "\n",
        "## 0. original data\n",
        "\n"
      ],
      "metadata": {
        "id": "QzI1W94D1tMM"
      }
    },
    {
      "cell_type": "code",
      "source": [
        "def data_generating_process(n, t, locs, scales, seed=None):\n",
        "    if seed is not None:\n",
        "        np.random.seed(seed)\n",
        "    z = np.random.multivariate_normal(mean=locs, cov=np.diag(scales), size=n)\n",
        "    R = np.array([\n",
        "        [np.cos(t), -np.sin(t)],\n",
        "        [np.sin(t), np.cos(t)]\n",
        "    ])\n",
        "    return R @ z.T\n",
        "\n",
        "n = 1000\n",
        "t = 251\n",
        "locs = (2, 5)\n",
        "scales = (11, 3)\n",
        "X = data_generating_process(n, t, locs, scales, seed=0)\n",
        "\n",
        "fig = px.scatter(x = X[0], y = X[1], opacity=0.5)\n",
        "fig.update_yaxes(scaleanchor=\"x\")\n",
        "\n"
      ],
      "metadata": {
        "id": "jxVKg9R71vgZ"
      },
      "execution_count": null,
      "outputs": []
    },
    {
      "cell_type": "markdown",
      "source": [
        "## 1. Center the data"
      ],
      "metadata": {
        "id": "ig4VkFmU7UEm"
      }
    },
    {
      "cell_type": "code",
      "source": [
        "X_center = X - np.mean(X, axis=1)[:, np.newaxis]\n",
        "fig = px.scatter(x = X_center[0], y = X_center[1], opacity=0.5)\n",
        "fig.update_yaxes(scaleanchor=\"x\")"
      ],
      "metadata": {
        "id": "istn3RgL6-zn"
      },
      "execution_count": null,
      "outputs": []
    },
    {
      "cell_type": "markdown",
      "source": [
        "## 2. Rotate the data"
      ],
      "metadata": {
        "id": "0blzz8jn7c10"
      }
    },
    {
      "cell_type": "code",
      "source": [
        "t = 251\n",
        "X_center_rotate = np.array([\n",
        "    [np.cos(-t), -np.sin(-t)],\n",
        "    [np.sin(-t), np.cos(-t)]\n",
        "]) @ X_center\n",
        "fig = px.scatter(x = X_center_rotate[0], y = X_center_rotate[1], opacity=0.5)\n",
        "fig.update_yaxes(scaleanchor=\"x\")"
      ],
      "metadata": {
        "id": "ct0N4utP7QCW"
      },
      "execution_count": null,
      "outputs": []
    },
    {
      "cell_type": "markdown",
      "source": [
        "## 3. Scale the data"
      ],
      "metadata": {
        "id": "IqXyWXCV71_T"
      }
    },
    {
      "cell_type": "code",
      "source": [
        "V = np.sqrt(np.array(scales)[:, np.newaxis])\n",
        "X_center_rotate_scale = (X_center_rotate / V)\n",
        "fig = px.scatter(x = X_center_rotate_scale[0], y = X_center_rotate_scale[1], opacity=0.5)\n",
        "fig.update_yaxes(scaleanchor=\"x\")"
      ],
      "metadata": {
        "id": "igNu0kDz7q0J"
      },
      "execution_count": null,
      "outputs": []
    },
    {
      "cell_type": "markdown",
      "source": [
        "## 4. _ta-da!_ we did PCA"
      ],
      "metadata": {
        "id": "e84U_GS_BM_3"
      }
    },
    {
      "cell_type": "code",
      "source": [
        "from sklearn.decomposition import PCA\n",
        "pca = PCA(n_components=2, whiten=True) # scaling conventing\n",
        "X_pca = pca.fit_transform(X.T)\n",
        "fig = px.scatter(x = X_pca[:, 0], y = X_pca[:, 1], opacity=0.5)\n",
        "fig.update_traces(marker=dict(color=\"teal\"))\n",
        "fig.update_yaxes(scaleanchor=\"x\")"
      ],
      "metadata": {
        "id": "oZ_jk7zf8Ejt"
      },
      "execution_count": null,
      "outputs": []
    },
    {
      "cell_type": "markdown",
      "source": [
        "# PCA example: radial data, again"
      ],
      "metadata": {
        "id": "IhKhUUjGR-2M"
      }
    },
    {
      "cell_type": "code",
      "source": [
        "np.random.seed(0)\n",
        "\n",
        "n_cat = 150\n",
        "r0 = np.random.uniform(0, 1, n_cat)\n",
        "r1 = np.random.uniform(3, 5, n_cat)\n",
        "r2 = np.random.uniform(8, 10, n_cat)\n",
        "\n",
        "r = np.concatenate((r0, r1, r2))\n",
        "t = np.random.uniform(0, 2*np.pi, n_cat*3)\n",
        "\n",
        "x = r * np.cos(t)\n",
        "y = r * np.sin(t)\n",
        "z = np.random.normal(size=3*n_cat)\n",
        "\n",
        "label = ([\"A\"]*n_cat) + ([\"B\"]*n_cat) + ([\"C\"]*n_cat)\n",
        "\n",
        "data = pd.DataFrame({\"x\": x, \"y\": y, \"label\": label, \"r\": r, \"t\": t, \"z\": z})\n",
        "fig = px.scatter_3d(data, x=\"x\", y=\"y\", z=\"z\")\n",
        "fig.update_yaxes(scaleanchor=\"x\")"
      ],
      "metadata": {
        "id": "jZD9hR2_SD8b"
      },
      "execution_count": null,
      "outputs": []
    },
    {
      "cell_type": "code",
      "source": [
        "X_pca_cartesian = PCA(n_components=2).fit_transform(data[[\"x\", \"y\", \"z\"]])\n",
        "fig = px.scatter(x = X_pca_cartesian[:, 0], y = X_pca_cartesian[:, 1])\n",
        "fig.update_yaxes(scaleanchor=\"x\")\n",
        "fig"
      ],
      "metadata": {
        "id": "GYQfI5IbSg5C"
      },
      "execution_count": null,
      "outputs": []
    }
  ]
}